{
 "cells": [
  {
   "cell_type": "markdown",
   "metadata": {},
   "source": [
    "## <span style=\"color:green\">Привет, Dmitry!</span>\n",
    "\n",
    "Отличная работа и еще больше отличного в доработках) Давай по порядку:\n",
    "\n",
    "1. Все (или почти все) реализовано через автоматизацию. Функции повсюду, а это значит нет лишнего кода и рутины.\n",
    "\n",
    "2. Прекрасная визуализация. Графики не напрягают, комфортны, понятны. Подобрана правильная цветовая схема.Короче, и понятно и для глаза приятно.\n",
    "\n",
    "3. Все рассуждения верные. Очень логичные и осмысленные. Ничего лишнего, все по полкам. Выводы правильные, хоть я где-то и не согласился, но аналитик тут ты, и ты очень грамотно обосновываешь свою точку зрения.\n",
    "\n",
    "4. Ты понял статистику, уже знаешь много крутых фич, которых небыло в теории.  \n",
    "\n",
    "Короче, молодец! Я желаю тебе успехов в учебе, а с твоим подходом, уситчивостью и старанием, я думаю, успех не заставит долго ждать. Удачи!\n",
    "<img src=\"https://russiaedu.ru/media/cache/image_md_resize/uploads/upload-images/2018/05/28/rdBrF8Lpz2s.jpg\" width=\"300\">\n",
    "\n",
    "Поздравляю с переходом на следующий этап. Впереди еще много интересного (и сложного))\n",
    "\n",
    "Посмотри мои комментарии V2"
   ]
  },
  {
   "cell_type": "markdown",
   "metadata": {},
   "source": [
    "## <span style=\"color:magenta\">Привет, Dmitry!</span>\n",
    "\n",
    "Меня зовут **Александр Сушков** и я буду проверять твой проект. Если не против, я буду обращаться к тебе на \"ТЫ\". Если это неприемлемо, обязательно напиши мне в комментариях - мы прейдем на \"ВЫ\".\n",
    "\n",
    "Спасибо, что сдал задание:) Ты проделал большую работу. Далее в файле ты сможешь найти мои комментарии в подобных ячейках. Пострайся учесть эти комментарии в ходе выполнения дальнейших проектов.\n",
    "\n",
    "Мне очень понравился твой проект. Видно, что ты достаточно проработал теоритическую часть, вопросы визуализации. Я вижу, что ты интересуешься материалом, которого не было, или пока не было, в теоритической части Практикума. Это очень здОрово! Тем не менее, в проекте обнаружились недочёты, которые необходимо будет исправить. Это не плохо, это - нормально.\n",
    "\n",
    "Обрати внимание, для твоего удобства, я буду выделять свои комментарии цветом, в зависимости от того, какие действия, важность и особенности тебя ждут в процессе проверки:\n",
    "<div class=\"alert alert-block alert-success\">\n",
    "<h2>Комментарий от ревьювера (все здОрово)</h2> \n",
    "    \n",
    "Такими комментариями я буду помечать хорошо проделаную работу, а так же хорошо проделаную работу над ошибками:)\n",
    "</div>\n",
    "\n",
    "<div class=\"alert alert-block alert-warning\">\n",
    "<h2>Комментарий от ревьювера (принимаем к размышлению)</h2> \n",
    "    \n",
    "В таких комментариях я постараюсь подсказать тебе более элегантное или легкое решение. Поскажу некоторые хитрости и фишки. Дам рекомендации на будущее, ссылки для доп. изучения. Части проекта, помеченные такими комментариями, можно не исправлять, но рекомендую обратить на них внимание.\n",
    "</div>\n",
    "\n",
    "<div class=\"alert alert-block alert-danger\">\n",
    "<h2>Комментарий от ревьювера (недочет, который нужно доработать)</h2> \n",
    "    \n",
    "Если ты видишь такой комментарий, значит я указываю тебе на недочёт, его нужно исправить. Без такого исправления я не приму твою работу:)\n",
    "</div>\n",
    "\n",
    "#### Пожалуста, не удаляй мои комментарии и относись к ним бережно. При повторной проверке, я буду ориентироваться на них. \n",
    "\n",
    "###### Можешь под моими комментариями оставлять свои, в которых опиши свои испарвления. Это облегчит процесс проверки и мне, и тебе:) Например, вот так:\n",
    "\n",
    "<div class=\"alert alert-block alert-info\">\n",
    "<b>КОММЕНТАРИЙ ОТ УЧЕНИКА:</b>\n",
    "</div>"
   ]
  },
  {
   "cell_type": "markdown",
   "metadata": {},
   "source": [
    "# Исследование тарифов оператора связи"
   ]
  },
  {
   "cell_type": "markdown",
   "metadata": {},
   "source": [
    "Цель проекта:\n",
    "- Научиться из большого датосета выбирать информацию которая является актуальной;\n",
    "- Пронаблюдать за тем как различные факторы влияют друг на друга;\n",
    "- Научиться делать прогнозы на основании датосетов."
   ]
  },
  {
   "cell_type": "markdown",
   "metadata": {},
   "source": [
    "### План работ по проекту:\n",
    "1. Подготовка всех необходимых библиотек, открытие файла  и знакоства с данными;\n",
    "2. [Предобработка данных](#step_1):\n",
    "    - [Преобразование регистра столбцов](#step_1);\n",
    "    - [Обработка пропусков  в столбце `name`](#step_2);\n",
    "    - [Заполнение пропусков в столбце `year_of_release`](#step_2);\n",
    "    - [Заполнение пропусков в столбце  `rating` ](#step_3);\n",
    "    - [Работа с данными и  пропусками в столбце  `user_score` и `critic_score`](#step_3);\n",
    "    - [Изменение формата данных](#step_4)\n",
    "    - [Посчет суммарных продаж во всех регионах](#step_4)\n",
    "3. Проведение исследовательского анализа данных:\n",
    "   - [Посмотрим, сколько игр выпускалось в разные годы](#step_5);\n",
    "   - [Посмотрим, как менялись продажи по платформам](#step_6);\n",
    "   - [Выберем платформы с числом продаж больше 50 млн.копий](#step_7);\n",
    "   - [Построим распределение по годам](#step_8);\n",
    "   - [Возьмем данные за актуальный период](#step_9);\n",
    "   - [Выбираем  платформы лидирующие  по продажам](#step_9);\n",
    "   - [Построим  график «ящик с усами»](#step_9);\n",
    "   - [Влияние на продажи внутри одной популярной платформы отзывы пользователей и критиков](#step_10);\n",
    "   - [Общее распределение игр по жанрам](#step_11);\n",
    "   - [Построим график распределения игр по кол-ву проданых копий в каждом жанре](#step_12);\n",
    "4. Составим портрет пользователя каждого региона :\n",
    "   - [Самые популярные платформы (топ-5)](#step_13);\n",
    "   - [Самые популярные жанры (топ-5)](#step_14);\n",
    "   - [Влияет ли рейтинга ESRB на продажи в отдельном регионе](#step_15);\n",
    "5. Проверка гипотез:\n",
    "   - [Средние пользовательские рейтинги платформ Xbox One и PC одинаковые](#step_16);\n",
    "   - [Средние пользовательские рейтинги жанров Action и Sports разные.](#step_17).\n",
    "6. [Общий вывод](#step_18)"
   ]
  },
  {
   "cell_type": "markdown",
   "metadata": {},
   "source": [
    "<div class=\"alert alert-block alert-success\">\n",
    "<h2>Комментарий от ревьювера (все здОрово)</h2> \n",
    "    \n",
    "Супер! Отличное содержание)\n",
    "</div>"
   ]
  },
  {
   "cell_type": "markdown",
   "metadata": {},
   "source": [
    "### Шаг 1. Подготовка всех необходимых библиотек, открытие файла  и знакоства с данными"
   ]
  },
  {
   "cell_type": "code",
   "execution_count": 1,
   "metadata": {},
   "outputs": [],
   "source": [
    "import pandas as pd\n",
    "import numpy as np\n",
    "import matplotlib.pyplot as plt \n",
    "from pymystem3 import Mystem\n",
    "from collections import Counter\n",
    "import seaborn as sns\n",
    "import datetime\n",
    "import warnings\n",
    "import math\n",
    "from scipy import stats as st\n",
    "pd.set_option('display.max_columns', 500)\n",
    "warnings.filterwarnings('ignore')"
   ]
  },
  {
   "cell_type": "code",
   "execution_count": 2,
   "metadata": {},
   "outputs": [
    {
     "data": {
      "text/html": [
       "<div>\n",
       "<style scoped>\n",
       "    .dataframe tbody tr th:only-of-type {\n",
       "        vertical-align: middle;\n",
       "    }\n",
       "\n",
       "    .dataframe tbody tr th {\n",
       "        vertical-align: top;\n",
       "    }\n",
       "\n",
       "    .dataframe thead th {\n",
       "        text-align: right;\n",
       "    }\n",
       "</style>\n",
       "<table border=\"1\" class=\"dataframe\">\n",
       "  <thead>\n",
       "    <tr style=\"text-align: right;\">\n",
       "      <th></th>\n",
       "      <th>Name</th>\n",
       "      <th>Platform</th>\n",
       "      <th>Year_of_Release</th>\n",
       "      <th>Genre</th>\n",
       "      <th>NA_sales</th>\n",
       "      <th>EU_sales</th>\n",
       "      <th>JP_sales</th>\n",
       "      <th>Other_sales</th>\n",
       "      <th>Critic_Score</th>\n",
       "      <th>User_Score</th>\n",
       "      <th>Rating</th>\n",
       "    </tr>\n",
       "  </thead>\n",
       "  <tbody>\n",
       "    <tr>\n",
       "      <td>0</td>\n",
       "      <td>Wii Sports</td>\n",
       "      <td>Wii</td>\n",
       "      <td>2006.0</td>\n",
       "      <td>Sports</td>\n",
       "      <td>41.36</td>\n",
       "      <td>28.96</td>\n",
       "      <td>3.77</td>\n",
       "      <td>8.45</td>\n",
       "      <td>76.0</td>\n",
       "      <td>8</td>\n",
       "      <td>E</td>\n",
       "    </tr>\n",
       "    <tr>\n",
       "      <td>1</td>\n",
       "      <td>Super Mario Bros.</td>\n",
       "      <td>NES</td>\n",
       "      <td>1985.0</td>\n",
       "      <td>Platform</td>\n",
       "      <td>29.08</td>\n",
       "      <td>3.58</td>\n",
       "      <td>6.81</td>\n",
       "      <td>0.77</td>\n",
       "      <td>NaN</td>\n",
       "      <td>NaN</td>\n",
       "      <td>NaN</td>\n",
       "    </tr>\n",
       "    <tr>\n",
       "      <td>2</td>\n",
       "      <td>Mario Kart Wii</td>\n",
       "      <td>Wii</td>\n",
       "      <td>2008.0</td>\n",
       "      <td>Racing</td>\n",
       "      <td>15.68</td>\n",
       "      <td>12.76</td>\n",
       "      <td>3.79</td>\n",
       "      <td>3.29</td>\n",
       "      <td>82.0</td>\n",
       "      <td>8.3</td>\n",
       "      <td>E</td>\n",
       "    </tr>\n",
       "    <tr>\n",
       "      <td>3</td>\n",
       "      <td>Wii Sports Resort</td>\n",
       "      <td>Wii</td>\n",
       "      <td>2009.0</td>\n",
       "      <td>Sports</td>\n",
       "      <td>15.61</td>\n",
       "      <td>10.93</td>\n",
       "      <td>3.28</td>\n",
       "      <td>2.95</td>\n",
       "      <td>80.0</td>\n",
       "      <td>8</td>\n",
       "      <td>E</td>\n",
       "    </tr>\n",
       "    <tr>\n",
       "      <td>4</td>\n",
       "      <td>Pokemon Red/Pokemon Blue</td>\n",
       "      <td>GB</td>\n",
       "      <td>1996.0</td>\n",
       "      <td>Role-Playing</td>\n",
       "      <td>11.27</td>\n",
       "      <td>8.89</td>\n",
       "      <td>10.22</td>\n",
       "      <td>1.00</td>\n",
       "      <td>NaN</td>\n",
       "      <td>NaN</td>\n",
       "      <td>NaN</td>\n",
       "    </tr>\n",
       "    <tr>\n",
       "      <td>...</td>\n",
       "      <td>...</td>\n",
       "      <td>...</td>\n",
       "      <td>...</td>\n",
       "      <td>...</td>\n",
       "      <td>...</td>\n",
       "      <td>...</td>\n",
       "      <td>...</td>\n",
       "      <td>...</td>\n",
       "      <td>...</td>\n",
       "      <td>...</td>\n",
       "      <td>...</td>\n",
       "    </tr>\n",
       "    <tr>\n",
       "      <td>16710</td>\n",
       "      <td>Samurai Warriors: Sanada Maru</td>\n",
       "      <td>PS3</td>\n",
       "      <td>2016.0</td>\n",
       "      <td>Action</td>\n",
       "      <td>0.00</td>\n",
       "      <td>0.00</td>\n",
       "      <td>0.01</td>\n",
       "      <td>0.00</td>\n",
       "      <td>NaN</td>\n",
       "      <td>NaN</td>\n",
       "      <td>NaN</td>\n",
       "    </tr>\n",
       "    <tr>\n",
       "      <td>16711</td>\n",
       "      <td>LMA Manager 2007</td>\n",
       "      <td>X360</td>\n",
       "      <td>2006.0</td>\n",
       "      <td>Sports</td>\n",
       "      <td>0.00</td>\n",
       "      <td>0.01</td>\n",
       "      <td>0.00</td>\n",
       "      <td>0.00</td>\n",
       "      <td>NaN</td>\n",
       "      <td>NaN</td>\n",
       "      <td>NaN</td>\n",
       "    </tr>\n",
       "    <tr>\n",
       "      <td>16712</td>\n",
       "      <td>Haitaka no Psychedelica</td>\n",
       "      <td>PSV</td>\n",
       "      <td>2016.0</td>\n",
       "      <td>Adventure</td>\n",
       "      <td>0.00</td>\n",
       "      <td>0.00</td>\n",
       "      <td>0.01</td>\n",
       "      <td>0.00</td>\n",
       "      <td>NaN</td>\n",
       "      <td>NaN</td>\n",
       "      <td>NaN</td>\n",
       "    </tr>\n",
       "    <tr>\n",
       "      <td>16713</td>\n",
       "      <td>Spirits &amp; Spells</td>\n",
       "      <td>GBA</td>\n",
       "      <td>2003.0</td>\n",
       "      <td>Platform</td>\n",
       "      <td>0.01</td>\n",
       "      <td>0.00</td>\n",
       "      <td>0.00</td>\n",
       "      <td>0.00</td>\n",
       "      <td>NaN</td>\n",
       "      <td>NaN</td>\n",
       "      <td>NaN</td>\n",
       "    </tr>\n",
       "    <tr>\n",
       "      <td>16714</td>\n",
       "      <td>Winning Post 8 2016</td>\n",
       "      <td>PSV</td>\n",
       "      <td>2016.0</td>\n",
       "      <td>Simulation</td>\n",
       "      <td>0.00</td>\n",
       "      <td>0.00</td>\n",
       "      <td>0.01</td>\n",
       "      <td>0.00</td>\n",
       "      <td>NaN</td>\n",
       "      <td>NaN</td>\n",
       "      <td>NaN</td>\n",
       "    </tr>\n",
       "  </tbody>\n",
       "</table>\n",
       "<p>16715 rows × 11 columns</p>\n",
       "</div>"
      ],
      "text/plain": [
       "                                Name Platform  Year_of_Release         Genre  \\\n",
       "0                         Wii Sports      Wii           2006.0        Sports   \n",
       "1                  Super Mario Bros.      NES           1985.0      Platform   \n",
       "2                     Mario Kart Wii      Wii           2008.0        Racing   \n",
       "3                  Wii Sports Resort      Wii           2009.0        Sports   \n",
       "4           Pokemon Red/Pokemon Blue       GB           1996.0  Role-Playing   \n",
       "...                              ...      ...              ...           ...   \n",
       "16710  Samurai Warriors: Sanada Maru      PS3           2016.0        Action   \n",
       "16711               LMA Manager 2007     X360           2006.0        Sports   \n",
       "16712        Haitaka no Psychedelica      PSV           2016.0     Adventure   \n",
       "16713               Spirits & Spells      GBA           2003.0      Platform   \n",
       "16714            Winning Post 8 2016      PSV           2016.0    Simulation   \n",
       "\n",
       "       NA_sales  EU_sales  JP_sales  Other_sales  Critic_Score User_Score  \\\n",
       "0         41.36     28.96      3.77         8.45          76.0          8   \n",
       "1         29.08      3.58      6.81         0.77           NaN        NaN   \n",
       "2         15.68     12.76      3.79         3.29          82.0        8.3   \n",
       "3         15.61     10.93      3.28         2.95          80.0          8   \n",
       "4         11.27      8.89     10.22         1.00           NaN        NaN   \n",
       "...         ...       ...       ...          ...           ...        ...   \n",
       "16710      0.00      0.00      0.01         0.00           NaN        NaN   \n",
       "16711      0.00      0.01      0.00         0.00           NaN        NaN   \n",
       "16712      0.00      0.00      0.01         0.00           NaN        NaN   \n",
       "16713      0.01      0.00      0.00         0.00           NaN        NaN   \n",
       "16714      0.00      0.00      0.01         0.00           NaN        NaN   \n",
       "\n",
       "      Rating  \n",
       "0          E  \n",
       "1        NaN  \n",
       "2          E  \n",
       "3          E  \n",
       "4        NaN  \n",
       "...      ...  \n",
       "16710    NaN  \n",
       "16711    NaN  \n",
       "16712    NaN  \n",
       "16713    NaN  \n",
       "16714    NaN  \n",
       "\n",
       "[16715 rows x 11 columns]"
      ]
     },
     "execution_count": 2,
     "metadata": {},
     "output_type": "execute_result"
    }
   ],
   "source": [
    "df = pd.read_csv('/datasets/games.csv', sep=',') \n",
    "df"
   ]
  },
  {
   "cell_type": "code",
   "execution_count": 3,
   "metadata": {
    "scrolled": true
   },
   "outputs": [
    {
     "name": "stdout",
     "output_type": "stream",
     "text": [
      "<class 'pandas.core.frame.DataFrame'>\n",
      "RangeIndex: 16715 entries, 0 to 16714\n",
      "Data columns (total 11 columns):\n",
      "Name               16713 non-null object\n",
      "Platform           16715 non-null object\n",
      "Year_of_Release    16446 non-null float64\n",
      "Genre              16713 non-null object\n",
      "NA_sales           16715 non-null float64\n",
      "EU_sales           16715 non-null float64\n",
      "JP_sales           16715 non-null float64\n",
      "Other_sales        16715 non-null float64\n",
      "Critic_Score       8137 non-null float64\n",
      "User_Score         10014 non-null object\n",
      "Rating             9949 non-null object\n",
      "dtypes: float64(6), object(5)\n",
      "memory usage: 1.4+ MB\n"
     ]
    }
   ],
   "source": [
    "df.info()"
   ]
  },
  {
   "cell_type": "markdown",
   "metadata": {},
   "source": [
    "<div class=\"alert alert-block alert-success\">\n",
    "<h2>Комментарий от ревьювера (все здОрово)</h2> \n",
    "\n",
    "Отлично! Замечательные выкладки. Молодец что используешь только метод info. значит понимаешь, как он работает. Другие методы, shape, isnull и т.д. -  это уже избыточно)"
   ]
  },
  {
   "cell_type": "markdown",
   "metadata": {},
   "source": [
    "<a id='step_1'></a>"
   ]
  },
  {
   "cell_type": "markdown",
   "metadata": {},
   "source": [
    "### Шаг 2. Предобработка данных"
   ]
  },
  {
   "cell_type": "markdown",
   "metadata": {},
   "source": [
    "##### Преобразование регистра столбцов"
   ]
  },
  {
   "cell_type": "markdown",
   "metadata": {},
   "source": [
    "Во время знакомства с данными мы могли заметить что название столбцов написаны с заглавной буквы. Это не очень удобно для обработки данных поэтому приведем их к нижнему регистру"
   ]
  },
  {
   "cell_type": "code",
   "execution_count": 4,
   "metadata": {},
   "outputs": [],
   "source": [
    "df.columns = df.columns.str.lower()"
   ]
  },
  {
   "cell_type": "code",
   "execution_count": 5,
   "metadata": {
    "scrolled": true
   },
   "outputs": [
    {
     "data": {
      "text/html": [
       "<div>\n",
       "<style scoped>\n",
       "    .dataframe tbody tr th:only-of-type {\n",
       "        vertical-align: middle;\n",
       "    }\n",
       "\n",
       "    .dataframe tbody tr th {\n",
       "        vertical-align: top;\n",
       "    }\n",
       "\n",
       "    .dataframe thead th {\n",
       "        text-align: right;\n",
       "    }\n",
       "</style>\n",
       "<table border=\"1\" class=\"dataframe\">\n",
       "  <thead>\n",
       "    <tr style=\"text-align: right;\">\n",
       "      <th></th>\n",
       "      <th>name</th>\n",
       "      <th>platform</th>\n",
       "      <th>year_of_release</th>\n",
       "      <th>genre</th>\n",
       "      <th>na_sales</th>\n",
       "      <th>eu_sales</th>\n",
       "      <th>jp_sales</th>\n",
       "      <th>other_sales</th>\n",
       "      <th>critic_score</th>\n",
       "      <th>user_score</th>\n",
       "      <th>rating</th>\n",
       "    </tr>\n",
       "  </thead>\n",
       "  <tbody>\n",
       "    <tr>\n",
       "      <td>0</td>\n",
       "      <td>Wii Sports</td>\n",
       "      <td>Wii</td>\n",
       "      <td>2006.0</td>\n",
       "      <td>Sports</td>\n",
       "      <td>41.36</td>\n",
       "      <td>28.96</td>\n",
       "      <td>3.77</td>\n",
       "      <td>8.45</td>\n",
       "      <td>76.0</td>\n",
       "      <td>8</td>\n",
       "      <td>E</td>\n",
       "    </tr>\n",
       "    <tr>\n",
       "      <td>1</td>\n",
       "      <td>Super Mario Bros.</td>\n",
       "      <td>NES</td>\n",
       "      <td>1985.0</td>\n",
       "      <td>Platform</td>\n",
       "      <td>29.08</td>\n",
       "      <td>3.58</td>\n",
       "      <td>6.81</td>\n",
       "      <td>0.77</td>\n",
       "      <td>NaN</td>\n",
       "      <td>NaN</td>\n",
       "      <td>NaN</td>\n",
       "    </tr>\n",
       "    <tr>\n",
       "      <td>2</td>\n",
       "      <td>Mario Kart Wii</td>\n",
       "      <td>Wii</td>\n",
       "      <td>2008.0</td>\n",
       "      <td>Racing</td>\n",
       "      <td>15.68</td>\n",
       "      <td>12.76</td>\n",
       "      <td>3.79</td>\n",
       "      <td>3.29</td>\n",
       "      <td>82.0</td>\n",
       "      <td>8.3</td>\n",
       "      <td>E</td>\n",
       "    </tr>\n",
       "    <tr>\n",
       "      <td>3</td>\n",
       "      <td>Wii Sports Resort</td>\n",
       "      <td>Wii</td>\n",
       "      <td>2009.0</td>\n",
       "      <td>Sports</td>\n",
       "      <td>15.61</td>\n",
       "      <td>10.93</td>\n",
       "      <td>3.28</td>\n",
       "      <td>2.95</td>\n",
       "      <td>80.0</td>\n",
       "      <td>8</td>\n",
       "      <td>E</td>\n",
       "    </tr>\n",
       "    <tr>\n",
       "      <td>4</td>\n",
       "      <td>Pokemon Red/Pokemon Blue</td>\n",
       "      <td>GB</td>\n",
       "      <td>1996.0</td>\n",
       "      <td>Role-Playing</td>\n",
       "      <td>11.27</td>\n",
       "      <td>8.89</td>\n",
       "      <td>10.22</td>\n",
       "      <td>1.00</td>\n",
       "      <td>NaN</td>\n",
       "      <td>NaN</td>\n",
       "      <td>NaN</td>\n",
       "    </tr>\n",
       "  </tbody>\n",
       "</table>\n",
       "</div>"
      ],
      "text/plain": [
       "                       name platform  year_of_release         genre  na_sales  \\\n",
       "0                Wii Sports      Wii           2006.0        Sports     41.36   \n",
       "1         Super Mario Bros.      NES           1985.0      Platform     29.08   \n",
       "2            Mario Kart Wii      Wii           2008.0        Racing     15.68   \n",
       "3         Wii Sports Resort      Wii           2009.0        Sports     15.61   \n",
       "4  Pokemon Red/Pokemon Blue       GB           1996.0  Role-Playing     11.27   \n",
       "\n",
       "   eu_sales  jp_sales  other_sales  critic_score user_score rating  \n",
       "0     28.96      3.77         8.45          76.0          8      E  \n",
       "1      3.58      6.81         0.77           NaN        NaN    NaN  \n",
       "2     12.76      3.79         3.29          82.0        8.3      E  \n",
       "3     10.93      3.28         2.95          80.0          8      E  \n",
       "4      8.89     10.22         1.00           NaN        NaN    NaN  "
      ]
     },
     "execution_count": 5,
     "metadata": {},
     "output_type": "execute_result"
    }
   ],
   "source": [
    "df.head()"
   ]
  },
  {
   "cell_type": "markdown",
   "metadata": {},
   "source": [
    "<div class=\"alert alert-block alert-success\">\n",
    "<h2>Комментарий от ревьювера (все здОрово)</h2> \n",
    "\n",
    "Правильно примененный метод)"
   ]
  },
  {
   "cell_type": "markdown",
   "metadata": {},
   "source": [
    "<a id='step_2'></a>"
   ]
  },
  {
   "cell_type": "markdown",
   "metadata": {},
   "source": [
    "##### Обработка пропусков  в столбце `name`  "
   ]
  },
  {
   "cell_type": "markdown",
   "metadata": {},
   "source": [
    "Зная назваие игры мы можем многое узнать о ней, но т.к. нам оно не известно удалим игры без названиям. "
   ]
  },
  {
   "cell_type": "code",
   "execution_count": 6,
   "metadata": {},
   "outputs": [
    {
     "data": {
      "text/plain": [
       "0"
      ]
     },
     "execution_count": 6,
     "metadata": {},
     "output_type": "execute_result"
    }
   ],
   "source": [
    "df.dropna(subset = ['name'], inplace = True) # удаление пропусков\n",
    "df = df.reset_index(drop=True)\n",
    "df.query('name.isna()').shape[0] # проверка на наличие пропусков"
   ]
  },
  {
   "cell_type": "markdown",
   "metadata": {},
   "source": [
    "<div class=\"alert alert-block alert-success\">\n",
    "<h2>Комментарий от ревьювера (все здОрово)</h2> \n",
    "\n",
    "Согласен)"
   ]
  },
  {
   "cell_type": "markdown",
   "metadata": {},
   "source": [
    "##### Заполнение пропусков в столбце `year_of_release`  "
   ]
  },
  {
   "cell_type": "markdown",
   "metadata": {},
   "source": [
    "Можно предположить что год выпуска игры это тот же год что написан в названии данной игры. "
   ]
  },
  {
   "cell_type": "code",
   "execution_count": 7,
   "metadata": {},
   "outputs": [],
   "source": [
    "# создаем функцию разделитель \n",
    "df['l_name'] = df['name'].apply(lambda x: x.split())"
   ]
  },
  {
   "cell_type": "code",
   "execution_count": 8,
   "metadata": {},
   "outputs": [],
   "source": [
    "# создаем спимок уникальных значений по годам выпуска\n",
    "uniq_n = df.query('~year_of_release.isna()')['year_of_release'].unique().astype('int')"
   ]
  },
  {
   "cell_type": "code",
   "execution_count": 9,
   "metadata": {},
   "outputs": [],
   "source": [
    "# создаем функцию прописывающую год выпуска из названия игры.\n",
    "def n_year(row):\n",
    "    for year in uniq_n:\n",
    "        if str(year) in row :\n",
    "            return year\n",
    "df['year_l'] = df['l_name'].apply(n_year)"
   ]
  },
  {
   "cell_type": "code",
   "execution_count": 10,
   "metadata": {},
   "outputs": [],
   "source": [
    "# заполняем пропущенные значения в столбце  `year_of_release`  \n",
    "df.loc[(~df['year_l'].isna()) & (df['year_of_release'].isna()), 'year_of_release'] = df['year_l']"
   ]
  },
  {
   "cell_type": "code",
   "execution_count": 11,
   "metadata": {},
   "outputs": [
    {
     "data": {
      "text/plain": [
       "254"
      ]
     },
     "execution_count": 11,
     "metadata": {},
     "output_type": "execute_result"
    }
   ],
   "source": [
    "# удаляем вспомогательные столбцы\n",
    "df.drop(['l_name', 'year_l'], axis='columns', inplace=True)\n",
    "# проверяем кол-воне заполненых значений.\n",
    "df.query('year_of_release.isna()').shape[0]"
   ]
  },
  {
   "cell_type": "markdown",
   "metadata": {},
   "source": [
    "Т.к количество игр с пропущенными годами выпуска составляет менее 2% считаю возможным удалить эти значения\n"
   ]
  },
  {
   "cell_type": "code",
   "execution_count": 12,
   "metadata": {},
   "outputs": [
    {
     "data": {
      "text/plain": [
       "0"
      ]
     },
     "execution_count": 12,
     "metadata": {},
     "output_type": "execute_result"
    }
   ],
   "source": [
    "df.dropna(subset = ['year_of_release'], inplace = True) # удаление пропусков\n",
    "df = df.reset_index(drop=True)\n",
    "df.query('year_of_release.isna()').shape[0] # проверка на наличие пропусков"
   ]
  },
  {
   "cell_type": "markdown",
   "metadata": {},
   "source": [
    "<div class=\"alert alert-block alert-success\">\n",
    "<h2>Комментарий от ревьювера (все здОрово)</h2> \n",
    "\n",
    "Тоже соглашусь. Использование года из названия игры - выше всяких похвал - молодец)"
   ]
  },
  {
   "cell_type": "markdown",
   "metadata": {},
   "source": [
    "<a id='step_3'></a>"
   ]
  },
  {
   "cell_type": "markdown",
   "metadata": {},
   "source": [
    "##### Заполнение пропусков в столбце  `rating`  "
   ]
  },
  {
   "cell_type": "markdown",
   "metadata": {},
   "source": [
    "Значения не заполненные в столбце `rating`  считаю возможным заполнить 'no_info' т.к. из-за времени выхода игры рейтинг й мог и не даваться."
   ]
  },
  {
   "cell_type": "code",
   "execution_count": 13,
   "metadata": {},
   "outputs": [],
   "source": [
    "df.loc[(df['rating'].isna()), 'rating'] = 'no_info'"
   ]
  },
  {
   "cell_type": "markdown",
   "metadata": {},
   "source": [
    "<div class=\"alert alert-block alert-success\">\n",
    "<h2>Комментарий от ревьювера (все здОрово)</h2> \n",
    "\n",
    "Хорошая замена)"
   ]
  },
  {
   "cell_type": "markdown",
   "metadata": {},
   "source": [
    "##### Работа с данными и  пропусками в столбце  `user_score`  и  `critic_score` "
   ]
  },
  {
   "cell_type": "markdown",
   "metadata": {},
   "source": [
    "- В столбце `user_score` присутствует абривеатура `tbd` от английского To Be Determined (будет определено). Можем заменить его на 'no_info' и в будущем заполнить уже по конкретно извесным нам данным когда они у нас появяться.\n",
    "- Большое количество пропусков в `user_score`  и  `critic_score`  связано с тем сто некоторые игры вышли давно и на них не составлялся рейтинг и оценка, а сейчас они не актуальны и слишком небольшой % пользователей знает о них, и рейтинг не сможет оценить их по достоинству."
   ]
  },
  {
   "cell_type": "code",
   "execution_count": 14,
   "metadata": {},
   "outputs": [],
   "source": [
    "df.loc[(df['user_score'].isna()), 'user_score'] = 'no_info'"
   ]
  },
  {
   "cell_type": "code",
   "execution_count": 15,
   "metadata": {},
   "outputs": [],
   "source": [
    "df.loc[(df['user_score']== 'tbd' ), 'user_score']= 'no_info'"
   ]
  },
  {
   "cell_type": "code",
   "execution_count": 16,
   "metadata": {},
   "outputs": [],
   "source": [
    "df.loc[(df['critic_score'].isna()), 'critic_score'] = 'no_info'"
   ]
  },
  {
   "cell_type": "code",
   "execution_count": 17,
   "metadata": {
    "scrolled": true
   },
   "outputs": [
    {
     "name": "stdout",
     "output_type": "stream",
     "text": [
      "<class 'pandas.core.frame.DataFrame'>\n",
      "RangeIndex: 16459 entries, 0 to 16458\n",
      "Data columns (total 11 columns):\n",
      "name               16459 non-null object\n",
      "platform           16459 non-null object\n",
      "year_of_release    16459 non-null float64\n",
      "genre              16459 non-null object\n",
      "na_sales           16459 non-null float64\n",
      "eu_sales           16459 non-null float64\n",
      "jp_sales           16459 non-null float64\n",
      "other_sales        16459 non-null float64\n",
      "critic_score       16459 non-null object\n",
      "user_score         16459 non-null object\n",
      "rating             16459 non-null object\n",
      "dtypes: float64(5), object(6)\n",
      "memory usage: 1.4+ MB\n"
     ]
    }
   ],
   "source": [
    "df.info()"
   ]
  },
  {
   "cell_type": "markdown",
   "metadata": {},
   "source": [
    "<div class=\"alert alert-block alert-warning\">\n",
    "<h2>Комментарий от ревьювера (принимаем к размышлению)</h2> \n",
    "    \n",
    "Вот тут немного не соглашусь. В принципе, не ошибка. Но лучше числовые пропуски заменять на уникальные числовые значения, например, \"-1\" или другие, какие тебе удобней) Тип object, не даст нам работать со многми операциями)\n",
    "</div>"
   ]
  },
  {
   "cell_type": "markdown",
   "metadata": {},
   "source": [
    "<div class=\"alert alert-block alert-success\">\n",
    "<h2>Комментарий от ревьювера (все здОрово)</h2> \n",
    "\n",
    "Отличная предобработка. Хочу отметить замечательные рассуждения и прекрасные выводы. Все исследования очень подробные, подобраны правильные категории. Выше всяких похвал, молодец, мастерский анализ)\n",
    "    \n",
    "Правильно, что не оставлял пропуски как есть) От Nan лучше избавляться. Nan - вещь крайне противная, он не равен ничему, даже самому себе, потому легко выпадает из исследований) "
   ]
  },
  {
   "cell_type": "markdown",
   "metadata": {},
   "source": [
    "<a id='step_4'></a>"
   ]
  },
  {
   "cell_type": "markdown",
   "metadata": {},
   "source": [
    "#### Изменение формата данных "
   ]
  },
  {
   "cell_type": "markdown",
   "metadata": {},
   "source": [
    "##### Преобразуем `year_of_release` в формат даты "
   ]
  },
  {
   "cell_type": "markdown",
   "metadata": {},
   "source": [
    "Для работы с батой лучше всего применять формат даты, но так как нам известен только год преобразуем его в формат int "
   ]
  },
  {
   "cell_type": "code",
   "execution_count": 18,
   "metadata": {},
   "outputs": [],
   "source": [
    "df['year_of_release'] = pd.to_datetime(df['year_of_release'],format='%Y')\n",
    "df['year_of_release'] = df['year_of_release'].dt.year"
   ]
  },
  {
   "cell_type": "code",
   "execution_count": 19,
   "metadata": {},
   "outputs": [
    {
     "name": "stdout",
     "output_type": "stream",
     "text": [
      "<class 'pandas.core.frame.DataFrame'>\n",
      "RangeIndex: 16459 entries, 0 to 16458\n",
      "Data columns (total 11 columns):\n",
      "name               16459 non-null object\n",
      "platform           16459 non-null object\n",
      "year_of_release    16459 non-null int64\n",
      "genre              16459 non-null object\n",
      "na_sales           16459 non-null float64\n",
      "eu_sales           16459 non-null float64\n",
      "jp_sales           16459 non-null float64\n",
      "other_sales        16459 non-null float64\n",
      "critic_score       16459 non-null object\n",
      "user_score         16459 non-null object\n",
      "rating             16459 non-null object\n",
      "dtypes: float64(4), int64(1), object(6)\n",
      "memory usage: 1.4+ MB\n"
     ]
    }
   ],
   "source": [
    "df.info()"
   ]
  },
  {
   "cell_type": "markdown",
   "metadata": {},
   "source": [
    "#### Посчет суммарных продаж во всех регионах "
   ]
  },
  {
   "cell_type": "code",
   "execution_count": 20,
   "metadata": {},
   "outputs": [],
   "source": [
    "df['gen_sale'] = df['na_sales'] + df['eu_sales'] + df['jp_sales'] + df['other_sales']"
   ]
  },
  {
   "cell_type": "code",
   "execution_count": 21,
   "metadata": {
    "scrolled": true
   },
   "outputs": [
    {
     "data": {
      "text/html": [
       "<div>\n",
       "<style scoped>\n",
       "    .dataframe tbody tr th:only-of-type {\n",
       "        vertical-align: middle;\n",
       "    }\n",
       "\n",
       "    .dataframe tbody tr th {\n",
       "        vertical-align: top;\n",
       "    }\n",
       "\n",
       "    .dataframe thead th {\n",
       "        text-align: right;\n",
       "    }\n",
       "</style>\n",
       "<table border=\"1\" class=\"dataframe\">\n",
       "  <thead>\n",
       "    <tr style=\"text-align: right;\">\n",
       "      <th></th>\n",
       "      <th>name</th>\n",
       "      <th>platform</th>\n",
       "      <th>year_of_release</th>\n",
       "      <th>genre</th>\n",
       "      <th>na_sales</th>\n",
       "      <th>eu_sales</th>\n",
       "      <th>jp_sales</th>\n",
       "      <th>other_sales</th>\n",
       "      <th>critic_score</th>\n",
       "      <th>user_score</th>\n",
       "      <th>rating</th>\n",
       "      <th>gen_sale</th>\n",
       "    </tr>\n",
       "  </thead>\n",
       "  <tbody>\n",
       "    <tr>\n",
       "      <td>0</td>\n",
       "      <td>Wii Sports</td>\n",
       "      <td>Wii</td>\n",
       "      <td>2006</td>\n",
       "      <td>Sports</td>\n",
       "      <td>41.36</td>\n",
       "      <td>28.96</td>\n",
       "      <td>3.77</td>\n",
       "      <td>8.45</td>\n",
       "      <td>76</td>\n",
       "      <td>8</td>\n",
       "      <td>E</td>\n",
       "      <td>82.54</td>\n",
       "    </tr>\n",
       "    <tr>\n",
       "      <td>1</td>\n",
       "      <td>Super Mario Bros.</td>\n",
       "      <td>NES</td>\n",
       "      <td>1985</td>\n",
       "      <td>Platform</td>\n",
       "      <td>29.08</td>\n",
       "      <td>3.58</td>\n",
       "      <td>6.81</td>\n",
       "      <td>0.77</td>\n",
       "      <td>no_info</td>\n",
       "      <td>no_info</td>\n",
       "      <td>no_info</td>\n",
       "      <td>40.24</td>\n",
       "    </tr>\n",
       "    <tr>\n",
       "      <td>2</td>\n",
       "      <td>Mario Kart Wii</td>\n",
       "      <td>Wii</td>\n",
       "      <td>2008</td>\n",
       "      <td>Racing</td>\n",
       "      <td>15.68</td>\n",
       "      <td>12.76</td>\n",
       "      <td>3.79</td>\n",
       "      <td>3.29</td>\n",
       "      <td>82</td>\n",
       "      <td>8.3</td>\n",
       "      <td>E</td>\n",
       "      <td>35.52</td>\n",
       "    </tr>\n",
       "    <tr>\n",
       "      <td>3</td>\n",
       "      <td>Wii Sports Resort</td>\n",
       "      <td>Wii</td>\n",
       "      <td>2009</td>\n",
       "      <td>Sports</td>\n",
       "      <td>15.61</td>\n",
       "      <td>10.93</td>\n",
       "      <td>3.28</td>\n",
       "      <td>2.95</td>\n",
       "      <td>80</td>\n",
       "      <td>8</td>\n",
       "      <td>E</td>\n",
       "      <td>32.77</td>\n",
       "    </tr>\n",
       "    <tr>\n",
       "      <td>4</td>\n",
       "      <td>Pokemon Red/Pokemon Blue</td>\n",
       "      <td>GB</td>\n",
       "      <td>1996</td>\n",
       "      <td>Role-Playing</td>\n",
       "      <td>11.27</td>\n",
       "      <td>8.89</td>\n",
       "      <td>10.22</td>\n",
       "      <td>1.00</td>\n",
       "      <td>no_info</td>\n",
       "      <td>no_info</td>\n",
       "      <td>no_info</td>\n",
       "      <td>31.38</td>\n",
       "    </tr>\n",
       "  </tbody>\n",
       "</table>\n",
       "</div>"
      ],
      "text/plain": [
       "                       name platform  year_of_release         genre  na_sales  \\\n",
       "0                Wii Sports      Wii             2006        Sports     41.36   \n",
       "1         Super Mario Bros.      NES             1985      Platform     29.08   \n",
       "2            Mario Kart Wii      Wii             2008        Racing     15.68   \n",
       "3         Wii Sports Resort      Wii             2009        Sports     15.61   \n",
       "4  Pokemon Red/Pokemon Blue       GB             1996  Role-Playing     11.27   \n",
       "\n",
       "   eu_sales  jp_sales  other_sales critic_score user_score   rating  gen_sale  \n",
       "0     28.96      3.77         8.45           76          8        E     82.54  \n",
       "1      3.58      6.81         0.77      no_info    no_info  no_info     40.24  \n",
       "2     12.76      3.79         3.29           82        8.3        E     35.52  \n",
       "3     10.93      3.28         2.95           80          8        E     32.77  \n",
       "4      8.89     10.22         1.00      no_info    no_info  no_info     31.38  "
      ]
     },
     "execution_count": 21,
     "metadata": {},
     "output_type": "execute_result"
    }
   ],
   "source": [
    "df.head()"
   ]
  },
  {
   "cell_type": "markdown",
   "metadata": {},
   "source": [
    "<div class=\"alert alert-block alert-success\">\n",
    "<h2>Комментарий от ревьювера (все здОрово)</h2> \n",
    "\n",
    "Все верно)"
   ]
  },
  {
   "cell_type": "markdown",
   "metadata": {},
   "source": [
    "<a id='step_5'></a>"
   ]
  },
  {
   "cell_type": "markdown",
   "metadata": {},
   "source": [
    "### Шаг 3. Проведение исследовательского анализа данных"
   ]
  },
  {
   "cell_type": "markdown",
   "metadata": {},
   "source": [
    "##### Посмотрим, сколько игр выпускалось в разные годы. Понять  важны ли  данные за все периоды."
   ]
  },
  {
   "cell_type": "code",
   "execution_count": 22,
   "metadata": {},
   "outputs": [
    {
     "data": {
      "image/png": "[encoded data removed]",
      "text/plain": [
       "<Figure size 1152x648 with 1 Axes>"
      ]
     },
     "metadata": {
      "needs_background": "light"
     },
     "output_type": "display_data"
    }
   ],
   "source": [
    "df.pivot_table(index='year_of_release', values='name', aggfunc='count')\\\n",
    "                .plot(legend=True, kind='bar', figsize=(16,9),grid=True)\n",
    "plt.title('Кол-во игр выпушенное за каждый год')\n",
    "plt.xlabel('Год')\n",
    "plt.ylabel('Кол-во игр, шт.')\n",
    "plt.show()"
   ]
  },
  {
   "cell_type": "code",
   "execution_count": 23,
   "metadata": {},
   "outputs": [],
   "source": [
    "df_2002 = df.query('year_of_release >=2002')"
   ]
  },
  {
   "cell_type": "markdown",
   "metadata": {},
   "source": [
    "- Проанализировав график и посчитав количество игр. Я считаю что нам необходимо оставить в датосете значения по играм начиная с 2002 года. т.к. основной прирост выпуска игр начинается именно с этого года. "
   ]
  },
  {
   "cell_type": "markdown",
   "metadata": {},
   "source": [
    "<a id='step_6'></a>"
   ]
  },
  {
   "cell_type": "markdown",
   "metadata": {},
   "source": [
    "##### Посмотрим, как менялись продажи по платформам"
   ]
  },
  {
   "cell_type": "code",
   "execution_count": 24,
   "metadata": {},
   "outputs": [
    {
     "data": {
      "image/png": "[encoded data removed]",
      "text/plain": [
       "<Figure size 1152x648 with 1 Axes>"
      ]
     },
     "metadata": {
      "needs_background": "light"
     },
     "output_type": "display_data"
    }
   ],
   "source": [
    "df_2002.groupby('platform')['gen_sale'].agg({'gen_sale':'sum'})\\\n",
    "                                               .rename(columns = {'gen_sale': 'sale'})\\\n",
    "                                               .sort_values('sale', ascending=False)\\\n",
    "                                               .plot(legend=True, kind='bar', figsize=(16,9),grid=True)\n",
    "plt.title('Продажи по каждой плотформе за все время')\n",
    "plt.xlabel('Название платформы')\n",
    "plt.ylabel('Миллионы проданных копий, млн.')\n",
    "plt.show()"
   ]
  },
  {
   "cell_type": "markdown",
   "metadata": {},
   "source": [
    "<a id='step_7'></a>"
   ]
  },
  {
   "cell_type": "markdown",
   "metadata": {},
   "source": [
    "##### Выберем платформы с числом продаж больше 50 млн.копий"
   ]
  },
  {
   "cell_type": "code",
   "execution_count": 25,
   "metadata": {},
   "outputs": [
    {
     "data": {
      "text/html": [
       "<div>\n",
       "<style scoped>\n",
       "    .dataframe tbody tr th:only-of-type {\n",
       "        vertical-align: middle;\n",
       "    }\n",
       "\n",
       "    .dataframe tbody tr th {\n",
       "        vertical-align: top;\n",
       "    }\n",
       "\n",
       "    .dataframe thead th {\n",
       "        text-align: right;\n",
       "    }\n",
       "</style>\n",
       "<table border=\"1\" class=\"dataframe\">\n",
       "  <thead>\n",
       "    <tr style=\"text-align: right;\">\n",
       "      <th></th>\n",
       "      <th>platform</th>\n",
       "      <th>sale</th>\n",
       "    </tr>\n",
       "  </thead>\n",
       "  <tbody>\n",
       "    <tr>\n",
       "      <td>0</td>\n",
       "      <td>PS2</td>\n",
       "      <td>1041.68</td>\n",
       "    </tr>\n",
       "    <tr>\n",
       "      <td>1</td>\n",
       "      <td>X360</td>\n",
       "      <td>961.30</td>\n",
       "    </tr>\n",
       "    <tr>\n",
       "      <td>2</td>\n",
       "      <td>PS3</td>\n",
       "      <td>931.34</td>\n",
       "    </tr>\n",
       "    <tr>\n",
       "      <td>3</td>\n",
       "      <td>Wii</td>\n",
       "      <td>891.18</td>\n",
       "    </tr>\n",
       "    <tr>\n",
       "      <td>4</td>\n",
       "      <td>DS</td>\n",
       "      <td>802.77</td>\n",
       "    </tr>\n",
       "    <tr>\n",
       "      <td>5</td>\n",
       "      <td>PS4</td>\n",
       "      <td>314.14</td>\n",
       "    </tr>\n",
       "    <tr>\n",
       "      <td>6</td>\n",
       "      <td>PSP</td>\n",
       "      <td>289.54</td>\n",
       "    </tr>\n",
       "    <tr>\n",
       "      <td>7</td>\n",
       "      <td>3DS</td>\n",
       "      <td>257.81</td>\n",
       "    </tr>\n",
       "    <tr>\n",
       "      <td>8</td>\n",
       "      <td>GBA</td>\n",
       "      <td>251.28</td>\n",
       "    </tr>\n",
       "    <tr>\n",
       "      <td>9</td>\n",
       "      <td>XB</td>\n",
       "      <td>229.41</td>\n",
       "    </tr>\n",
       "    <tr>\n",
       "      <td>10</td>\n",
       "      <td>PC</td>\n",
       "      <td>195.59</td>\n",
       "    </tr>\n",
       "    <tr>\n",
       "      <td>11</td>\n",
       "      <td>GC</td>\n",
       "      <td>170.69</td>\n",
       "    </tr>\n",
       "    <tr>\n",
       "      <td>12</td>\n",
       "      <td>XOne</td>\n",
       "      <td>159.32</td>\n",
       "    </tr>\n",
       "    <tr>\n",
       "      <td>13</td>\n",
       "      <td>WiiU</td>\n",
       "      <td>82.19</td>\n",
       "    </tr>\n",
       "    <tr>\n",
       "      <td>14</td>\n",
       "      <td>PSV</td>\n",
       "      <td>53.81</td>\n",
       "    </tr>\n",
       "    <tr>\n",
       "      <td>15</td>\n",
       "      <td>PS</td>\n",
       "      <td>8.74</td>\n",
       "    </tr>\n",
       "    <tr>\n",
       "      <td>16</td>\n",
       "      <td>DC</td>\n",
       "      <td>0.35</td>\n",
       "    </tr>\n",
       "    <tr>\n",
       "      <td>17</td>\n",
       "      <td>N64</td>\n",
       "      <td>0.08</td>\n",
       "    </tr>\n",
       "  </tbody>\n",
       "</table>\n",
       "</div>"
      ],
      "text/plain": [
       "   platform     sale\n",
       "0       PS2  1041.68\n",
       "1      X360   961.30\n",
       "2       PS3   931.34\n",
       "3       Wii   891.18\n",
       "4        DS   802.77\n",
       "5       PS4   314.14\n",
       "6       PSP   289.54\n",
       "7       3DS   257.81\n",
       "8       GBA   251.28\n",
       "9        XB   229.41\n",
       "10       PC   195.59\n",
       "11       GC   170.69\n",
       "12     XOne   159.32\n",
       "13     WiiU    82.19\n",
       "14      PSV    53.81\n",
       "15       PS     8.74\n",
       "16       DC     0.35\n",
       "17      N64     0.08"
      ]
     },
     "execution_count": 25,
     "metadata": {},
     "output_type": "execute_result"
    }
   ],
   "source": [
    "df_2002_all_pl = df_2002.groupby('platform', as_index=False)['gen_sale'].agg({'gen_sale':'sum'})\\\n",
    "                                        .rename(columns = {'gen_sale': 'sale'})\\\n",
    "                                        .sort_values('sale', ascending=False)\\\n",
    "                                        .reset_index(drop=True)\n",
    "df_2002_all_pl"
   ]
  },
  {
   "cell_type": "markdown",
   "metadata": {},
   "source": [
    "Из таблицывыше мы можем увидеть какие платформы подходят под наше условие."
   ]
  },
  {
   "cell_type": "markdown",
   "metadata": {},
   "source": [
    "Отсортируем таблицу `df_2002` по уникальным значениям платформ"
   ]
  },
  {
   "cell_type": "code",
   "execution_count": 26,
   "metadata": {},
   "outputs": [],
   "source": [
    "df_uniq_50 = df_2002_all_pl.query('sale >= 50')['platform'].unique() "
   ]
  },
  {
   "cell_type": "code",
   "execution_count": 27,
   "metadata": {},
   "outputs": [],
   "source": [
    "# напишем функцию для обозначения нужных нам платформ\n",
    "def n_pl(row):\n",
    "    for i in df_uniq_50:\n",
    "        if i == row :\n",
    "            return 1\n",
    "df_2002['pl_50'] = df_2002['platform'].apply(n_pl)"
   ]
  },
  {
   "cell_type": "code",
   "execution_count": 28,
   "metadata": {},
   "outputs": [],
   "source": [
    "# отфильтруем необходимые нам платформы\n",
    "df_2002_pl = df_2002.query('pl_50 == 1')\n",
    "df_2002_pl = df_2002_pl.reset_index(drop=True)"
   ]
  },
  {
   "cell_type": "code",
   "execution_count": 29,
   "metadata": {},
   "outputs": [],
   "source": [
    "# удаляем вспомогательные столбцы\n",
    "df_2002_pl.drop(['pl_50'], axis='columns', inplace=True)"
   ]
  },
  {
   "cell_type": "markdown",
   "metadata": {},
   "source": [
    "<div class=\"alert alert-block alert-success\">\n",
    "<h2>Комментарий от ревьювера (все здОрово)</h2> \n",
    "\n",
    "Хорошо) За оформление графиков, подписи осей и заголовки, отдельное спасибо)"
   ]
  },
  {
   "cell_type": "markdown",
   "metadata": {},
   "source": [
    "<a id='step_8'></a>"
   ]
  },
  {
   "cell_type": "markdown",
   "metadata": {},
   "source": [
    "##### Построим распределение по годам."
   ]
  },
  {
   "cell_type": "markdown",
   "metadata": {},
   "source": [
    "Для болеее детального изучения распределения по годам считаю возможным разбить график на 2 части временными периодами с 2002 по 2007 и с 2008 по 2016."
   ]
  },
  {
   "cell_type": "code",
   "execution_count": 30,
   "metadata": {},
   "outputs": [],
   "source": [
    "# составляем датасет до 2007 года\n",
    "df_2002_pl_2007 = df_2002_pl.query('year_of_release <= 2007')\n",
    "# составляем датасет после 2007 года\n",
    "df_2007_pl_2016 = df_2002_pl.query('year_of_release >= 2008')"
   ]
  },
  {
   "cell_type": "code",
   "execution_count": 31,
   "metadata": {},
   "outputs": [
    {
     "data": {
      "image/png": "[encoded data removed]",
      "text/plain": [
       "<Figure size 1440x1080 with 1 Axes>"
      ]
     },
     "metadata": {
      "needs_background": "light"
     },
     "output_type": "display_data"
    }
   ],
   "source": [
    "df_2002_pl_2007.pivot_table(index='year_of_release', columns='platform', values='gen_sale', aggfunc='sum')\\\n",
    "          .plot(kind='bar',grid=True, figsize=(20,15))\n",
    "plt.title('Продажи по каждой плотформе за каждый год')\n",
    "plt.ylabel('Кол-во проданных игр, млн.шт')\n",
    "plt.xlabel('Год')\n",
    "plt.show()"
   ]
  },
  {
   "cell_type": "code",
   "execution_count": 32,
   "metadata": {},
   "outputs": [
    {
     "data": {
      "image/png": "[encoded data removed]",
      "text/plain": [
       "<Figure size 1440x1080 with 1 Axes>"
      ]
     },
     "metadata": {
      "needs_background": "light"
     },
     "output_type": "display_data"
    }
   ],
   "source": [
    "df_2007_pl_2016.pivot_table(index='year_of_release', columns='platform', values='gen_sale', aggfunc='sum')\\\n",
    "          .plot(kind='bar',grid=True, figsize=(20,15))\n",
    "plt.title('Продажи по каждой плотформе за каждый год')\n",
    "plt.ylabel('Кол-во проданных игр, млн.шт')\n",
    "plt.xlabel('Год')\n",
    "plt.show()"
   ]
  },
  {
   "cell_type": "code",
   "execution_count": 33,
   "metadata": {},
   "outputs": [
    {
     "data": {
      "text/html": [
       "<div>\n",
       "<style scoped>\n",
       "    .dataframe tbody tr th:only-of-type {\n",
       "        vertical-align: middle;\n",
       "    }\n",
       "\n",
       "    .dataframe tbody tr th {\n",
       "        vertical-align: top;\n",
       "    }\n",
       "\n",
       "    .dataframe thead th {\n",
       "        text-align: right;\n",
       "    }\n",
       "</style>\n",
       "<table border=\"1\" class=\"dataframe\">\n",
       "  <thead>\n",
       "    <tr style=\"text-align: right;\">\n",
       "      <th>platform</th>\n",
       "      <th>3DS</th>\n",
       "      <th>DS</th>\n",
       "      <th>GBA</th>\n",
       "      <th>GC</th>\n",
       "      <th>PC</th>\n",
       "      <th>PS2</th>\n",
       "      <th>PS3</th>\n",
       "      <th>PS4</th>\n",
       "      <th>PSP</th>\n",
       "      <th>PSV</th>\n",
       "      <th>Wii</th>\n",
       "      <th>WiiU</th>\n",
       "      <th>X360</th>\n",
       "      <th>XB</th>\n",
       "      <th>XOne</th>\n",
       "    </tr>\n",
       "    <tr>\n",
       "      <th>year_of_release</th>\n",
       "      <th></th>\n",
       "      <th></th>\n",
       "      <th></th>\n",
       "      <th></th>\n",
       "      <th></th>\n",
       "      <th></th>\n",
       "      <th></th>\n",
       "      <th></th>\n",
       "      <th></th>\n",
       "      <th></th>\n",
       "      <th></th>\n",
       "      <th></th>\n",
       "      <th></th>\n",
       "      <th></th>\n",
       "      <th></th>\n",
       "    </tr>\n",
       "  </thead>\n",
       "  <tbody>\n",
       "    <tr>\n",
       "      <td>2002</td>\n",
       "      <td>NaN</td>\n",
       "      <td>NaN</td>\n",
       "      <td>74.16</td>\n",
       "      <td>51.81</td>\n",
       "      <td>8.57</td>\n",
       "      <td>205.38</td>\n",
       "      <td>NaN</td>\n",
       "      <td>NaN</td>\n",
       "      <td>NaN</td>\n",
       "      <td>NaN</td>\n",
       "      <td>NaN</td>\n",
       "      <td>NaN</td>\n",
       "      <td>NaN</td>\n",
       "      <td>48.59</td>\n",
       "      <td>NaN</td>\n",
       "    </tr>\n",
       "    <tr>\n",
       "      <td>2003</td>\n",
       "      <td>NaN</td>\n",
       "      <td>NaN</td>\n",
       "      <td>56.67</td>\n",
       "      <td>50.91</td>\n",
       "      <td>8.84</td>\n",
       "      <td>185.93</td>\n",
       "      <td>NaN</td>\n",
       "      <td>NaN</td>\n",
       "      <td>NaN</td>\n",
       "      <td>NaN</td>\n",
       "      <td>NaN</td>\n",
       "      <td>NaN</td>\n",
       "      <td>NaN</td>\n",
       "      <td>55.40</td>\n",
       "      <td>NaN</td>\n",
       "    </tr>\n",
       "    <tr>\n",
       "      <td>2004</td>\n",
       "      <td>NaN</td>\n",
       "      <td>17.27</td>\n",
       "      <td>77.91</td>\n",
       "      <td>28.82</td>\n",
       "      <td>10.39</td>\n",
       "      <td>220.55</td>\n",
       "      <td>NaN</td>\n",
       "      <td>NaN</td>\n",
       "      <td>7.06</td>\n",
       "      <td>NaN</td>\n",
       "      <td>NaN</td>\n",
       "      <td>NaN</td>\n",
       "      <td>NaN</td>\n",
       "      <td>65.42</td>\n",
       "      <td>NaN</td>\n",
       "    </tr>\n",
       "    <tr>\n",
       "      <td>2005</td>\n",
       "      <td>NaN</td>\n",
       "      <td>130.14</td>\n",
       "      <td>33.86</td>\n",
       "      <td>27.62</td>\n",
       "      <td>4.37</td>\n",
       "      <td>160.98</td>\n",
       "      <td>NaN</td>\n",
       "      <td>NaN</td>\n",
       "      <td>43.84</td>\n",
       "      <td>NaN</td>\n",
       "      <td>NaN</td>\n",
       "      <td>NaN</td>\n",
       "      <td>8.25</td>\n",
       "      <td>49.23</td>\n",
       "      <td>NaN</td>\n",
       "    </tr>\n",
       "    <tr>\n",
       "      <td>2006</td>\n",
       "      <td>NaN</td>\n",
       "      <td>119.81</td>\n",
       "      <td>5.28</td>\n",
       "      <td>11.26</td>\n",
       "      <td>2.85</td>\n",
       "      <td>106.46</td>\n",
       "      <td>20.96</td>\n",
       "      <td>NaN</td>\n",
       "      <td>55.32</td>\n",
       "      <td>NaN</td>\n",
       "      <td>137.15</td>\n",
       "      <td>NaN</td>\n",
       "      <td>51.62</td>\n",
       "      <td>10.04</td>\n",
       "      <td>NaN</td>\n",
       "    </tr>\n",
       "    <tr>\n",
       "      <td>2007</td>\n",
       "      <td>NaN</td>\n",
       "      <td>146.94</td>\n",
       "      <td>3.40</td>\n",
       "      <td>0.27</td>\n",
       "      <td>9.28</td>\n",
       "      <td>75.99</td>\n",
       "      <td>73.19</td>\n",
       "      <td>NaN</td>\n",
       "      <td>46.93</td>\n",
       "      <td>NaN</td>\n",
       "      <td>152.77</td>\n",
       "      <td>NaN</td>\n",
       "      <td>95.42</td>\n",
       "      <td>0.55</td>\n",
       "      <td>NaN</td>\n",
       "    </tr>\n",
       "    <tr>\n",
       "      <td>2008</td>\n",
       "      <td>NaN</td>\n",
       "      <td>145.32</td>\n",
       "      <td>NaN</td>\n",
       "      <td>NaN</td>\n",
       "      <td>12.42</td>\n",
       "      <td>53.90</td>\n",
       "      <td>118.52</td>\n",
       "      <td>NaN</td>\n",
       "      <td>34.56</td>\n",
       "      <td>NaN</td>\n",
       "      <td>171.32</td>\n",
       "      <td>NaN</td>\n",
       "      <td>135.26</td>\n",
       "      <td>0.18</td>\n",
       "      <td>NaN</td>\n",
       "    </tr>\n",
       "    <tr>\n",
       "      <td>2009</td>\n",
       "      <td>NaN</td>\n",
       "      <td>119.54</td>\n",
       "      <td>NaN</td>\n",
       "      <td>NaN</td>\n",
       "      <td>16.91</td>\n",
       "      <td>26.40</td>\n",
       "      <td>130.93</td>\n",
       "      <td>NaN</td>\n",
       "      <td>37.78</td>\n",
       "      <td>NaN</td>\n",
       "      <td>206.97</td>\n",
       "      <td>NaN</td>\n",
       "      <td>120.29</td>\n",
       "      <td>NaN</td>\n",
       "      <td>NaN</td>\n",
       "    </tr>\n",
       "    <tr>\n",
       "      <td>2010</td>\n",
       "      <td>NaN</td>\n",
       "      <td>85.02</td>\n",
       "      <td>NaN</td>\n",
       "      <td>NaN</td>\n",
       "      <td>24.28</td>\n",
       "      <td>5.64</td>\n",
       "      <td>142.17</td>\n",
       "      <td>NaN</td>\n",
       "      <td>35.04</td>\n",
       "      <td>NaN</td>\n",
       "      <td>127.95</td>\n",
       "      <td>NaN</td>\n",
       "      <td>170.03</td>\n",
       "      <td>NaN</td>\n",
       "      <td>NaN</td>\n",
       "    </tr>\n",
       "    <tr>\n",
       "      <td>2011</td>\n",
       "      <td>63.20</td>\n",
       "      <td>26.18</td>\n",
       "      <td>NaN</td>\n",
       "      <td>NaN</td>\n",
       "      <td>35.03</td>\n",
       "      <td>0.45</td>\n",
       "      <td>156.78</td>\n",
       "      <td>NaN</td>\n",
       "      <td>17.82</td>\n",
       "      <td>4.63</td>\n",
       "      <td>59.65</td>\n",
       "      <td>NaN</td>\n",
       "      <td>143.89</td>\n",
       "      <td>NaN</td>\n",
       "      <td>NaN</td>\n",
       "    </tr>\n",
       "    <tr>\n",
       "      <td>2012</td>\n",
       "      <td>51.36</td>\n",
       "      <td>11.01</td>\n",
       "      <td>NaN</td>\n",
       "      <td>NaN</td>\n",
       "      <td>23.22</td>\n",
       "      <td>NaN</td>\n",
       "      <td>107.36</td>\n",
       "      <td>NaN</td>\n",
       "      <td>7.69</td>\n",
       "      <td>16.19</td>\n",
       "      <td>21.71</td>\n",
       "      <td>17.56</td>\n",
       "      <td>99.74</td>\n",
       "      <td>NaN</td>\n",
       "      <td>NaN</td>\n",
       "    </tr>\n",
       "    <tr>\n",
       "      <td>2013</td>\n",
       "      <td>56.57</td>\n",
       "      <td>1.54</td>\n",
       "      <td>NaN</td>\n",
       "      <td>NaN</td>\n",
       "      <td>12.38</td>\n",
       "      <td>NaN</td>\n",
       "      <td>113.25</td>\n",
       "      <td>25.99</td>\n",
       "      <td>3.14</td>\n",
       "      <td>10.59</td>\n",
       "      <td>8.59</td>\n",
       "      <td>21.65</td>\n",
       "      <td>88.58</td>\n",
       "      <td>NaN</td>\n",
       "      <td>18.96</td>\n",
       "    </tr>\n",
       "    <tr>\n",
       "      <td>2014</td>\n",
       "      <td>43.76</td>\n",
       "      <td>NaN</td>\n",
       "      <td>NaN</td>\n",
       "      <td>NaN</td>\n",
       "      <td>13.28</td>\n",
       "      <td>NaN</td>\n",
       "      <td>47.76</td>\n",
       "      <td>100.00</td>\n",
       "      <td>0.24</td>\n",
       "      <td>11.90</td>\n",
       "      <td>3.75</td>\n",
       "      <td>22.03</td>\n",
       "      <td>34.74</td>\n",
       "      <td>NaN</td>\n",
       "      <td>54.07</td>\n",
       "    </tr>\n",
       "    <tr>\n",
       "      <td>2015</td>\n",
       "      <td>27.78</td>\n",
       "      <td>NaN</td>\n",
       "      <td>NaN</td>\n",
       "      <td>NaN</td>\n",
       "      <td>8.52</td>\n",
       "      <td>NaN</td>\n",
       "      <td>16.82</td>\n",
       "      <td>118.90</td>\n",
       "      <td>0.12</td>\n",
       "      <td>6.25</td>\n",
       "      <td>1.14</td>\n",
       "      <td>16.35</td>\n",
       "      <td>11.96</td>\n",
       "      <td>NaN</td>\n",
       "      <td>60.14</td>\n",
       "    </tr>\n",
       "    <tr>\n",
       "      <td>2016</td>\n",
       "      <td>15.14</td>\n",
       "      <td>NaN</td>\n",
       "      <td>NaN</td>\n",
       "      <td>NaN</td>\n",
       "      <td>5.25</td>\n",
       "      <td>NaN</td>\n",
       "      <td>3.60</td>\n",
       "      <td>69.25</td>\n",
       "      <td>NaN</td>\n",
       "      <td>4.25</td>\n",
       "      <td>0.18</td>\n",
       "      <td>4.60</td>\n",
       "      <td>1.52</td>\n",
       "      <td>NaN</td>\n",
       "      <td>26.15</td>\n",
       "    </tr>\n",
       "  </tbody>\n",
       "</table>\n",
       "</div>"
      ],
      "text/plain": [
       "platform           3DS      DS    GBA     GC     PC     PS2     PS3     PS4  \\\n",
       "year_of_release                                                               \n",
       "2002               NaN     NaN  74.16  51.81   8.57  205.38     NaN     NaN   \n",
       "2003               NaN     NaN  56.67  50.91   8.84  185.93     NaN     NaN   \n",
       "2004               NaN   17.27  77.91  28.82  10.39  220.55     NaN     NaN   \n",
       "2005               NaN  130.14  33.86  27.62   4.37  160.98     NaN     NaN   \n",
       "2006               NaN  119.81   5.28  11.26   2.85  106.46   20.96     NaN   \n",
       "2007               NaN  146.94   3.40   0.27   9.28   75.99   73.19     NaN   \n",
       "2008               NaN  145.32    NaN    NaN  12.42   53.90  118.52     NaN   \n",
       "2009               NaN  119.54    NaN    NaN  16.91   26.40  130.93     NaN   \n",
       "2010               NaN   85.02    NaN    NaN  24.28    5.64  142.17     NaN   \n",
       "2011             63.20   26.18    NaN    NaN  35.03    0.45  156.78     NaN   \n",
       "2012             51.36   11.01    NaN    NaN  23.22     NaN  107.36     NaN   \n",
       "2013             56.57    1.54    NaN    NaN  12.38     NaN  113.25   25.99   \n",
       "2014             43.76     NaN    NaN    NaN  13.28     NaN   47.76  100.00   \n",
       "2015             27.78     NaN    NaN    NaN   8.52     NaN   16.82  118.90   \n",
       "2016             15.14     NaN    NaN    NaN   5.25     NaN    3.60   69.25   \n",
       "\n",
       "platform           PSP    PSV     Wii   WiiU    X360     XB   XOne  \n",
       "year_of_release                                                     \n",
       "2002               NaN    NaN     NaN    NaN     NaN  48.59    NaN  \n",
       "2003               NaN    NaN     NaN    NaN     NaN  55.40    NaN  \n",
       "2004              7.06    NaN     NaN    NaN     NaN  65.42    NaN  \n",
       "2005             43.84    NaN     NaN    NaN    8.25  49.23    NaN  \n",
       "2006             55.32    NaN  137.15    NaN   51.62  10.04    NaN  \n",
       "2007             46.93    NaN  152.77    NaN   95.42   0.55    NaN  \n",
       "2008             34.56    NaN  171.32    NaN  135.26   0.18    NaN  \n",
       "2009             37.78    NaN  206.97    NaN  120.29    NaN    NaN  \n",
       "2010             35.04    NaN  127.95    NaN  170.03    NaN    NaN  \n",
       "2011             17.82   4.63   59.65    NaN  143.89    NaN    NaN  \n",
       "2012              7.69  16.19   21.71  17.56   99.74    NaN    NaN  \n",
       "2013              3.14  10.59    8.59  21.65   88.58    NaN  18.96  \n",
       "2014              0.24  11.90    3.75  22.03   34.74    NaN  54.07  \n",
       "2015              0.12   6.25    1.14  16.35   11.96    NaN  60.14  \n",
       "2016               NaN   4.25    0.18   4.60    1.52    NaN  26.15  "
      ]
     },
     "execution_count": 33,
     "metadata": {},
     "output_type": "execute_result"
    }
   ],
   "source": [
    "# таблица глобальных продаж по платформам в за выделенный нами период.\n",
    "df_sal_pl = df_2002_pl.pivot_table(index='year_of_release', columns='platform', values='gen_sale', aggfunc='sum')\n",
    "df_sal_pl"
   ]
  },
  {
   "cell_type": "markdown",
   "metadata": {},
   "source": [
    "- Мы посмотрели на визуальное распределение по годам и на распределение в числовом формате.\n",
    "- Характерными признаками появления новых и исчезновением старых приставок является обновление покаления платформ. Это можно наблюдать на двух примерах PS2-PS3-PS4 и XB-X360-XOne. \n",
    "- Мы видим, что появление нового покаления резко меняет кол-во продаж игр на платформе старого покаления. Пиковый срок \"жизни\" платформы 6 лет. Но так же мы можем видеть что на PC спрос есть всегда хотя и не очень большой.\n"
   ]
  },
  {
   "cell_type": "markdown",
   "metadata": {},
   "source": [
    "<div class=\"alert alert-block alert-warning\">\n",
    "<h2>Комментарий от ревьювера (принимаем к размышлению)</h2> \n",
    "    \n",
    "Очень хорошо, замечательные исследования, хотя в последних графиках я бы заменил их тип)\n",
    "</div>"
   ]
  },
  {
   "cell_type": "markdown",
   "metadata": {},
   "source": [
    "<div class=\"alert alert-block alert-info\">\n",
    "<b>КОММЕНТАРИЙ ОТ УЧЕНИКА:</b>\n",
    "попробовал возможные варианты из мною изученых не очень получилось если не сложно подскажи какой вариант лучше применить к графику или может есть какое то построение из seaborn \n",
    "</div>"
   ]
  },
  {
   "cell_type": "markdown",
   "metadata": {},
   "source": [
    "<div class=\"alert alert-block alert-success\">\n",
    "<h2>Комментарий от ревьювера V2 (все здОрово)</h2> \n",
    "\n",
    "Ну вот, самый простой вариант) Сразу видно какие две платформы рулят)\n",
    "    \n",
    "P.S. Не гонись за сиборном. Во-первых, у вас еще будет целый спринт по нему, во-вторых - он не настолько крут как кажется)"
   ]
  },
  {
   "cell_type": "code",
   "execution_count": 34,
   "metadata": {
    "scrolled": false
   },
   "outputs": [
    {
     "data": {
      "image/png": "[encoded data removed]",
      "text/plain": [
       "<Figure size 1080x504 with 1 Axes>"
      ]
     },
     "metadata": {
      "needs_background": "light"
     },
     "output_type": "display_data"
    }
   ],
   "source": [
    "# код ревьювера\n",
    "df_temp = df_2007_pl_2016.pivot_table(\n",
    "    index='year_of_release', columns='platform', values='gen_sale', aggfunc='sum').fillna(0).plot(\n",
    "    kind='line',grid=True, figsize=(15,7))\n",
    "plt.title('Продажи по каждой плотформе за каждый год')\n",
    "plt.ylabel('Кол-во проданных игр, млн.шт')\n",
    "plt.xlabel('Год')\n",
    "plt.show()\n"
   ]
  },
  {
   "cell_type": "markdown",
   "metadata": {},
   "source": [
    "<a id='step_9'></a>"
   ]
  },
  {
   "cell_type": "markdown",
   "metadata": {},
   "source": [
    "#### Возьмем данные за актуальный период."
   ]
  },
  {
   "cell_type": "markdown",
   "metadata": {},
   "source": [
    "- Возьмем данные за последние 4 года т.к. в 2013 появилось последнее поколение приставок."
   ]
  },
  {
   "cell_type": "code",
   "execution_count": 35,
   "metadata": {},
   "outputs": [],
   "source": [
    "df_top_pl_16 = df_sal_pl.query('year_of_release >= 2013')"
   ]
  },
  {
   "cell_type": "markdown",
   "metadata": {},
   "source": [
    "<div class=\"alert alert-block alert-success\">\n",
    "<h2>Комментарий от ревьювера (все здОрово)</h2> \n",
    "\n",
    "Супер, правильный выбор! Мир видеоигр - очень динамичная структура. Делать прогноз на 2017 год, при этом учитывать данные, раньше 2013г., я думаю, что это все-таки многовато. "
   ]
  },
  {
   "cell_type": "markdown",
   "metadata": {},
   "source": [
    "##### Выбираем  платформы лидирующие  по продажам. Выбираем потенциально прибыльные платформы."
   ]
  },
  {
   "cell_type": "markdown",
   "metadata": {},
   "source": [
    "Обратимся для ответа на этот вопрос к таблице выше.  \n",
    "Лидеры продаж и прибыльные платфоры:\n",
    "- WiiU, XOne, PS4, 3DS, PC, 3DS.\n",
    "- Хотелось бы обратить внимание что данные за 2016 год кажутся не полными по причине резкого отличия продаж падают продажи у 3DS но не появляется новое поколение, очень небольшой показатель продаж у WiiU, XOne, PS4 хотя это платформы последнего покаления."
   ]
  },
  {
   "cell_type": "markdown",
   "metadata": {},
   "source": [
    "#### Построим  график «ящик с усами» по глобальным продажам игр в разбивке по платформам."
   ]
  },
  {
   "cell_type": "code",
   "execution_count": 36,
   "metadata": {},
   "outputs": [
    {
     "data": {
      "text/html": [
       "<div>\n",
       "<style scoped>\n",
       "    .dataframe tbody tr th:only-of-type {\n",
       "        vertical-align: middle;\n",
       "    }\n",
       "\n",
       "    .dataframe tbody tr th {\n",
       "        vertical-align: top;\n",
       "    }\n",
       "\n",
       "    .dataframe thead th {\n",
       "        text-align: right;\n",
       "    }\n",
       "</style>\n",
       "<table border=\"1\" class=\"dataframe\">\n",
       "  <thead>\n",
       "    <tr style=\"text-align: right;\">\n",
       "      <th>platform</th>\n",
       "      <th>WiiU</th>\n",
       "      <th>XOne</th>\n",
       "      <th>PS4</th>\n",
       "      <th>3DS</th>\n",
       "      <th>PC</th>\n",
       "    </tr>\n",
       "    <tr>\n",
       "      <th>year_of_release</th>\n",
       "      <th></th>\n",
       "      <th></th>\n",
       "      <th></th>\n",
       "      <th></th>\n",
       "      <th></th>\n",
       "    </tr>\n",
       "  </thead>\n",
       "  <tbody>\n",
       "    <tr>\n",
       "      <td>2013</td>\n",
       "      <td>21.65</td>\n",
       "      <td>18.96</td>\n",
       "      <td>25.99</td>\n",
       "      <td>56.57</td>\n",
       "      <td>12.38</td>\n",
       "    </tr>\n",
       "    <tr>\n",
       "      <td>2014</td>\n",
       "      <td>22.03</td>\n",
       "      <td>54.07</td>\n",
       "      <td>100.00</td>\n",
       "      <td>43.76</td>\n",
       "      <td>13.28</td>\n",
       "    </tr>\n",
       "    <tr>\n",
       "      <td>2015</td>\n",
       "      <td>16.35</td>\n",
       "      <td>60.14</td>\n",
       "      <td>118.90</td>\n",
       "      <td>27.78</td>\n",
       "      <td>8.52</td>\n",
       "    </tr>\n",
       "    <tr>\n",
       "      <td>2016</td>\n",
       "      <td>4.60</td>\n",
       "      <td>26.15</td>\n",
       "      <td>69.25</td>\n",
       "      <td>15.14</td>\n",
       "      <td>5.25</td>\n",
       "    </tr>\n",
       "  </tbody>\n",
       "</table>\n",
       "</div>"
      ],
      "text/plain": [
       "platform          WiiU   XOne     PS4    3DS     PC\n",
       "year_of_release                                    \n",
       "2013             21.65  18.96   25.99  56.57  12.38\n",
       "2014             22.03  54.07  100.00  43.76  13.28\n",
       "2015             16.35  60.14  118.90  27.78   8.52\n",
       "2016              4.60  26.15   69.25  15.14   5.25"
      ]
     },
     "execution_count": 36,
     "metadata": {},
     "output_type": "execute_result"
    }
   ],
   "source": [
    "df_top_pl_16= df_top_pl_16[['WiiU', 'XOne', 'PS4', '3DS', 'PC']]\n",
    "df_top_pl_16"
   ]
  },
  {
   "cell_type": "code",
   "execution_count": 37,
   "metadata": {},
   "outputs": [
    {
     "data": {
      "image/png": "[encoded data removed]",
      "text/plain": [
       "<Figure size 1152x648 with 1 Axes>"
      ]
     },
     "metadata": {
      "needs_background": "light"
     },
     "output_type": "display_data"
    }
   ],
   "source": [
    "df_top_pl_16.boxplot( grid=True, figsize=(16, 9))\n",
    "plt.title('Продажи ведушим плотформе за фктуальный период')\n",
    "plt.xlabel('Название платформы')\n",
    "plt.ylabel('Миллионы проданных копий')\n",
    "plt.show()"
   ]
  },
  {
   "cell_type": "markdown",
   "metadata": {},
   "source": [
    "Мы можем увидеть сто нашит топовые платформы распределилисьна 3 группы:\n",
    "- Первая группа PS4 ее продажи за 4 года являются самыми большими но разброс продаж игр тоже самый большой из всех\n",
    "- Вторая группа XOne, 3DS являются популярными платформами но разрыв по основной сумме продаж сильно отличается от лидера.\n",
    "- Третья группа WiiU, PC самая стабильная по разбросу продаж игр , но и мамая маленькое число продаж игр за выбранный нами период."
   ]
  },
  {
   "cell_type": "markdown",
   "metadata": {},
   "source": [
    "<div class=\"alert alert-block alert-success\">\n",
    "<h2>Комментарий от ревьювера (все здОрово)</h2> \n",
    "\n",
    "Очень наглядная визуализация) Располагать боксплоты в одной системе координат - отличная практика, очень удобно сравнивать)"
   ]
  },
  {
   "cell_type": "markdown",
   "metadata": {},
   "source": [
    "<a id='step_10'></a>"
   ]
  },
  {
   "cell_type": "markdown",
   "metadata": {},
   "source": [
    "##### Влияние на продажи внутри одной популярной платформы отзывы пользователей и критиков. "
   ]
  },
  {
   "cell_type": "markdown",
   "metadata": {},
   "source": [
    "- Построим диаграмму рассеяния и посчитаем корреляцию между отзывами и продажами."
   ]
  },
  {
   "cell_type": "code",
   "execution_count": 38,
   "metadata": {},
   "outputs": [],
   "source": [
    "# Подготовка таблиц для построения матриц кореляции за актуальные годы\n",
    "df_2013_pl = df_2002_pl.query('year_of_release >= 2013' )\n",
    "df_2013_pl_s = df_2013_pl[['platform', 'gen_sale', 'critic_score', 'user_score']]\n",
    "df_2013_all_pl = df_2013_pl_s.query('user_score != \"no_info\" and  critic_score !=\"no_info\"') \n",
    "df_2013_all_pl[['critic_score', 'user_score']] = df_2013_all_pl[['critic_score', 'user_score']].astype('float')"
   ]
  },
  {
   "cell_type": "code",
   "execution_count": 39,
   "metadata": {
    "scrolled": false
   },
   "outputs": [
    {
     "data": {
      "image/png": "[encoded data removed]",
      "text/plain": [
       "<Figure size 864x504 with 2 Axes>"
      ]
     },
     "metadata": {
      "needs_background": "light"
     },
     "output_type": "display_data"
    },
    {
     "data": {
      "image/png": "[encoded data removed]",
      "text/plain": [
       "<Figure size 864x504 with 2 Axes>"
      ]
     },
     "metadata": {
      "needs_background": "light"
     },
     "output_type": "display_data"
    },
    {
     "data": {
      "image/png": "[encoded data removed]",
      "text/plain": [
       "<Figure size 864x504 with 2 Axes>"
      ]
     },
     "metadata": {
      "needs_background": "light"
     },
     "output_type": "display_data"
    },
    {
     "data": {
      "image/png": "[encoded data removed]",
      "text/plain": [
       "<Figure size 864x504 with 2 Axes>"
      ]
     },
     "metadata": {
      "needs_background": "light"
     },
     "output_type": "display_data"
    },
    {
     "data": {
      "image/png": "[encoded data removed]",
      "text/plain": [
       "<Figure size 864x504 with 2 Axes>"
      ]
     },
     "metadata": {
      "needs_background": "light"
     },
     "output_type": "display_data"
    }
   ],
   "source": [
    "top_5 = ['WiiU', 'XOne', 'PS4', '3DS', 'PC']\n",
    "for i in top_5:\n",
    "    f = plt.subplots(figsize=(12, 7))\n",
    "    sns.heatmap(df_2013_all_pl[df_2013_all_pl['platform']== i].corr(), annot = True, vmin=-1, vmax=1)\n",
    "    plt.title(i)\n",
    "    plt.show()"
   ]
  },
  {
   "cell_type": "markdown",
   "metadata": {},
   "source": [
    "Рассмотрим получившиеся матрицы корреляции:\n",
    "Общее наблюдение - мнение критиков и оценка пользователей или очень мало влияет на продажи за актуальный период или вообще не влияет.\n",
    "- 'WiiU', `critic_score`-0.38 слияние на продажи незначительно, но присутствует,\t `user_score`- 0.41 -пользовательское мнение важнее чем мнение критиков, но тоже не значительно влияет на продажи; \n",
    "- 'XOne',`critic_score`- 0.41 влияние критиков незначительно но сильнее чем на 'WiiU', `user_score`- (-0.094) влияние  пользовательского мнения на продажи отсутствует практически полностью; \n",
    "- 'PS4', `critic_score`- 0.41 влияние критиков незначительно но сильнее чем на 'WiiU' `user_score`- (-0.034)влияние  пользовательского мнения на продажи отсутствует практически полностью\n",
    "- '3DS',`critic_score`- 0.34  `user_score`- 0.27 покупка игр этой платформы не сильно зависит от мнения критиков и пользовательского мнения скорее всего у этой платформы есть целевой сегмент на который она и ориентированна.\n",
    "- 'PC', `critic_score`- 0.19 `user_score`- 0.11 ситуация практически идентична как и в предидущей платформе только влияние еще меньше."
   ]
  },
  {
   "cell_type": "markdown",
   "metadata": {},
   "source": [
    "<div class=\"alert alert-block alert-success\">\n",
    "<h2>Комментарий от ревьювера (все здОрово)</h2> \n",
    "\n",
    "Замечательный анализ. Очень радует использование цветовой карты в корреляциях, очень наглядно.\n",
    "    \n",
    "Очень часто бывает, что критики получают игру раньше релиза. Отсюда и зависимость, ведь тогда мнение критиков влияет на продажи непосредственно)"
   ]
  },
  {
   "cell_type": "markdown",
   "metadata": {},
   "source": [
    "<a id='step_11'></a>"
   ]
  },
  {
   "cell_type": "markdown",
   "metadata": {},
   "source": [
    "##### Общее распределение игр по жанрам"
   ]
  },
  {
   "cell_type": "code",
   "execution_count": 40,
   "metadata": {},
   "outputs": [
    {
     "data": {
      "image/png": "[encoded data removed]",
      "text/plain": [
       "<Figure size 1152x648 with 1 Axes>"
      ]
     },
     "metadata": {
      "needs_background": "light"
     },
     "output_type": "display_data"
    }
   ],
   "source": [
    "df.groupby('genre')['name'].agg({'name':'count'})\\\n",
    "                                               .rename(columns = {'name': 'game'})\\\n",
    "                                               .sort_values('game', ascending=False)\\\n",
    "                                               .plot(legend=True, kind='bar', figsize=(16,9),grid=True)\n",
    "plt.title('Общее распределение игр по жанрам')\n",
    "plt.xlabel('Название жанра')\n",
    "plt.ylabel('Кол-во игр в жанре, шт.')\n",
    "plt.show()"
   ]
  },
  {
   "cell_type": "markdown",
   "metadata": {},
   "source": [
    "<a id='step_12'></a>"
   ]
  },
  {
   "cell_type": "markdown",
   "metadata": {},
   "source": [
    "##### Построим график распределения игр по кол-ву проданых копий в каждом жанре"
   ]
  },
  {
   "cell_type": "code",
   "execution_count": 41,
   "metadata": {},
   "outputs": [
    {
     "data": {
      "image/png": "[encoded data removed]",
      "text/plain": [
       "<Figure size 1152x648 with 1 Axes>"
      ]
     },
     "metadata": {
      "needs_background": "light"
     },
     "output_type": "display_data"
    }
   ],
   "source": [
    "df.groupby('genre')['gen_sale'].agg({'gen_sale':'sum'})\\\n",
    "                                               .rename(columns = {'gen_sale': 'sale'})\\\n",
    "                                               .sort_values('sale', ascending=False)\\\n",
    "                                               .plot(legend=True, kind='bar', figsize=(16,9),grid=True)\n",
    "plt.title('Суммарные продажи игр по жанрам')\n",
    "plt.xlabel('Название жанра')\n",
    "plt.ylabel('Миллионы проданных копий, млн.')\n",
    "plt.show()"
   ]
  },
  {
   "cell_type": "markdown",
   "metadata": {},
   "source": [
    "Из двух графиков выше мы можем сделать вывод, что лидирующие жанры по кол-ву выпушенных игр и по кол-ву проданных копий - `Action` и `Sports`, а замыкает наш список как и по кол-ву выпушенных игр и по кол-ву проданных копий `Adventure`, `Strategy` и `Puzzle`\n",
    "#(не любят люди думать головой) :-) \n",
    "Топ 5 жанров это  `Action`, `Sports`, `Shooter`, `Role-Playing`, `Platform`.          "
   ]
  },
  {
   "cell_type": "markdown",
   "metadata": {},
   "source": [
    "<div class=\"alert alert-block alert-success\">\n",
    "<h2>Комментарий от ревьювера (все здОрово)</h2> \n",
    "\n",
    "Все супер, молодец. \n",
    "    \n",
    "З.Ы. Ага, не любять думать) В некоторых \"ведьмачьих\" квестах можно голову сломать)"
   ]
  },
  {
   "cell_type": "markdown",
   "metadata": {},
   "source": [
    "###  Шаг 4. Составим портрет пользователя каждого региона"
   ]
  },
  {
   "cell_type": "markdown",
   "metadata": {},
   "source": [
    "<a id='step_13'></a>"
   ]
  },
  {
   "cell_type": "markdown",
   "metadata": {},
   "source": [
    "#### Самые популярные платформы (топ-5)"
   ]
  },
  {
   "cell_type": "code",
   "execution_count": 42,
   "metadata": {},
   "outputs": [],
   "source": [
    "# составим таблицу топовых приставок по актуальным годам\n",
    "df_2013_pl_top5 = df_2013_pl.query('platform == @top_5 ')"
   ]
  },
  {
   "cell_type": "code",
   "execution_count": 43,
   "metadata": {},
   "outputs": [
    {
     "data": {
      "image/png": "[encoded data removed]",
      "text/plain": [
       "<Figure size 864x504 with 1 Axes>"
      ]
     },
     "metadata": {
      "needs_background": "light"
     },
     "output_type": "display_data"
    }
   ],
   "source": [
    "columns=['na_sales','eu_sales','jp_sales', 'other_sales']\n",
    "df_2013_pl_g = df_2013_pl_top5.pivot_table(index='platform', values= columns, aggfunc='sum')\n",
    "                                \n",
    "for col in columns:\n",
    "    df_2013_pl_g[col] = (df_2013_pl_g[col] / df_2013_pl_g[col].sum())*100\n",
    "\n",
    "df_2013_pl_g.plot(legend=True, kind='bar',figsize=(12,7),grid=True)\n",
    "\n",
    "plt.title('Топ-5 платформ по регионам в % .')\n",
    "plt.xlabel('Название платформ')\n",
    "plt.ylabel('% распределение продаж для каждого региона ')\n",
    "plt.show()"
   ]
  },
  {
   "cell_type": "markdown",
   "metadata": {},
   "source": [
    "- По продажам в Северной Америке и  в Европе  можно сказать что есть платформы лидеры доля их продаж отличается, но рейтинг популярности практически идентичен .\n",
    "- По подажам в Японии немного другая картина, мы видим что там в топе полатформа от  Nintendo, и мне кажется это и есть специфика этого региона."
   ]
  },
  {
   "cell_type": "markdown",
   "metadata": {},
   "source": [
    "<a id='step_14'></a>"
   ]
  },
  {
   "cell_type": "markdown",
   "metadata": {},
   "source": [
    "#### Самые популярные жанры (топ-5)"
   ]
  },
  {
   "cell_type": "code",
   "execution_count": 44,
   "metadata": {
    "scrolled": false
   },
   "outputs": [
    {
     "data": {
      "image/png": "[encoded data removed]",
      "text/plain": [
       "<Figure size 720x432 with 1 Axes>"
      ]
     },
     "metadata": {
      "needs_background": "light"
     },
     "output_type": "display_data"
    },
    {
     "data": {
      "image/png": "[encoded data removed]",
      "text/plain": [
       "<Figure size 720x432 with 1 Axes>"
      ]
     },
     "metadata": {
      "needs_background": "light"
     },
     "output_type": "display_data"
    },
    {
     "data": {
      "image/png": "[encoded data removed]",
      "text/plain": [
       "<Figure size 720x432 with 1 Axes>"
      ]
     },
     "metadata": {
      "needs_background": "light"
     },
     "output_type": "display_data"
    },
    {
     "data": {
      "image/png": "[encoded data removed]",
      "text/plain": [
       "<Figure size 720x432 with 1 Axes>"
      ]
     },
     "metadata": {
      "needs_background": "light"
     },
     "output_type": "display_data"
    }
   ],
   "source": [
    "reg = ['na_sales','eu_sales','jp_sales', 'other_sales']\n",
    "for i in reg:\n",
    "    df_2013_pl_top5.groupby('genre')[i].agg({ i:'sum' })\\\n",
    "                                  .rename(columns = { i : 'sale'})\\\n",
    "                                  .sort_values('sale', ascending=False).head()\\\n",
    "                                  .plot(legend=True, kind='bar', figsize=(10,6),grid=True)\n",
    "    plt.title(i)\n",
    "    plt.xlabel('Название жанра')\n",
    "    plt.ylabel('Миллионы проданных копий, млн.')\n",
    "plt.show()"
   ]
  },
  {
   "cell_type": "markdown",
   "metadata": {},
   "source": [
    "- Топ-5 предпочтений в Северной Америке и в Европе совпадает совпадает практически по всем жанрам. Что позволяет сделать предположение что рынок формируется одинаковыми запросами.\n",
    "- Топ-5 предпочтений в Японии - первое место занимает RPG которое в других регионах находится на 4 месте, 2 место топа Action он популярен во всех регионах. после 2 места мы видим что порулярность остальные жанры резк падает, хотя в Северной Америке и в Европе разница не столь значительна.\n",
    "- Топ-5 для продаж во всем остальном мире очень похож на топ продаж по Европе, но колличество коопий значительно меньше"
   ]
  },
  {
   "cell_type": "markdown",
   "metadata": {},
   "source": [
    "<a id='step_15'></a>"
   ]
  },
  {
   "cell_type": "markdown",
   "metadata": {},
   "source": [
    "##### Влияет ли рейтинга ESRB на продажи в отдельном регионе."
   ]
  },
  {
   "cell_type": "code",
   "execution_count": 45,
   "metadata": {},
   "outputs": [
    {
     "data": {
      "image/png": "[encoded data removed]",
      "text/plain": [
       "<Figure size 864x504 with 1 Axes>"
      ]
     },
     "metadata": {
      "needs_background": "light"
     },
     "output_type": "display_data"
    }
   ],
   "source": [
    "columns=['na_sales','eu_sales','jp_sales', 'other_sales']\n",
    "df_2013_esrb = df_2013_pl.pivot_table(index='rating', values= columns, aggfunc='sum')\n",
    "                        \n",
    "for col in columns:\n",
    "    df_2013_esrb[col] = (df_2013_esrb[col] / df_2013_esrb[col].sum())*100\n",
    "\n",
    "df_2013_esrb.plot(legend=True, kind='bar',figsize=(12,7),grid=True)\n",
    "\n",
    "plt.title(' % распределения продаж по рейтингу ESRB')\n",
    "plt.xlabel('Рейтинг')\n",
    "plt.ylabel('%')\n",
    "plt.show()"
   ]
  },
  {
   "cell_type": "markdown",
   "metadata": {},
   "source": [
    "- Для регионов Северная Америка, Европа и мировой продажи мы можем сделать предположение что рейтинг `ESRB` оказывает влияние на продажи.\n",
    "- Для Японского рынка влияние рейтинга `ESRB` практически не ошушается, и большая часть игр которая продается продается без этого рейтинга."
   ]
  },
  {
   "cell_type": "markdown",
   "metadata": {},
   "source": [
    "<div class=\"alert alert-block alert-success\">\n",
    "<h2>Комментарий от ревьювера (все здОрово)</h2> \n",
    "\n",
    "Ну тут все на высоте, выше всяких похвал. Замечательная визуализация, радует оформление)\n",
    "    \n",
    "З.Ы. В Японии своя система рейтингов)"
   ]
  },
  {
   "cell_type": "markdown",
   "metadata": {},
   "source": [
    "### Шаг 5. Проверка гипотез "
   ]
  },
  {
   "cell_type": "markdown",
   "metadata": {},
   "source": [
    "- В данном тесте мы используем статистический критерий Стьюдента, потому что тип исследуемых данный количественный, подчиняется нормальному распределению , и представляют из себя 2 независимые группы."
   ]
  },
  {
   "cell_type": "markdown",
   "metadata": {},
   "source": [
    "<div class=\"alert alert-block alert-info\">\n",
    "<b>КОММЕНТАРИЙ ОТ УЧЕНИКА:</b>\n",
    "хотелось бы узнать такое описание правильно и имеетли право на существование????   )))))\n",
    "</div>"
   ]
  },
  {
   "cell_type": "markdown",
   "metadata": {},
   "source": [
    "<div class=\"alert alert-block alert-success\">\n",
    "<h2>Комментарий от ревьювера V2 (все здОрово)</h2> \n",
    "\n",
    "Да имеет, правльно все написал)"
   ]
  },
  {
   "cell_type": "markdown",
   "metadata": {},
   "source": [
    "<a id='step_16'></a>"
   ]
  },
  {
   "cell_type": "markdown",
   "metadata": {},
   "source": [
    "#### Средние пользовательские рейтинги платформ Xbox One и PC одинаковые "
   ]
  },
  {
   "cell_type": "markdown",
   "metadata": {},
   "source": [
    "#### Н0 : Средние пользовательские рейтинги платформы Xbox One равен среднему пользовательскому рейтингу платформы PC"
   ]
  },
  {
   "cell_type": "markdown",
   "metadata": {},
   "source": [
    "#### Н1 : Средние пользовательские рейтинги платформы Xbox One не равен среднему пользовательскому рейтингу платформы PC"
   ]
  },
  {
   "cell_type": "markdown",
   "metadata": {},
   "source": [
    "<div class=\"alert alert-block alert-info\">\n",
    "<b>КОММЕНТАРИЙ ОТ УЧЕНИКА:</b>\n",
    "Подписи после формулирования гипотиз были для ответа на вот этот авопрос -> \n",
    "- `Как вы сформулировали нулевую и альтернативную гипотезы?`\n",
    "    \n",
    "Может его нужно выдклить в отдельный пункт?    \n",
    "</div>    "
   ]
  },
  {
   "cell_type": "markdown",
   "metadata": {},
   "source": [
    "<div class=\"alert alert-block alert-success\">\n",
    "<h2>Комментарий от ревьювера V2 (все здОрово)</h2>\n",
    "\n",
    "Нет, не нужно выносить - то, как ты сформулировал гиппотезы и сделал описания - очень хорошо)"
   ]
  },
  {
   "cell_type": "markdown",
   "metadata": {},
   "source": [
    " Причины формирования гипотизы Н0:\n",
    "- На платформу  домтаточно Xbox One сложно выпускаются игры и рейтинг всех игр высок.\n",
    "- PC не очень популярная платформа поэтому игры на нее делают хорошего качества.\n",
    "______________________________________________________________________________________________________\n",
    " Причины формирования гипотизы Н1:\n",
    "- Xbox One и похожееи платформы имеют различного качества игры из-за большого колличества сиквелов которые пользуются хорошим именем оригинальных часте и не всегда получают хороший рейтинг\n",
    "- На PC множество молодых компаний пробует создавать первые игры на эту платформу и не всегда эти игры имееют успех поэтому может быть большой разброс рейтинга."
   ]
  },
  {
   "cell_type": "code",
   "execution_count": 46,
   "metadata": {},
   "outputs": [
    {
     "name": "stdout",
     "output_type": "stream",
     "text": [
      "equal_var = False\n"
     ]
    }
   ],
   "source": [
    "# подготовим массивы, содержащие выборки:\n",
    "sample_1 = df_2013_pl.query('platform == \"PC\" and user_score != \"no_info\" ')['user_score'].astype('float')\n",
    "sample_1.name = 'Рейтинг PC'\n",
    "var_sample_1 = np.var(sample_1, ddof=1)\n",
    "\n",
    "sample_2 = df_2013_pl.query('platform == \"XOne\" and user_score != \"no_info\"')['user_score'].astype('float')\n",
    "sample_2.name = 'Рейтинг Xbox One'\n",
    "var_sample_2 = np.var(sample_2, ddof=1)\n",
    "\n",
    "# сделать сравнение дисперсий \n",
    "if var_sample_1 == var_sample_2:\n",
    "    print('equal_var = True')\n",
    "else:\n",
    "    print('equal_var = False')"
   ]
  },
  {
   "cell_type": "code",
   "execution_count": 47,
   "metadata": {},
   "outputs": [],
   "source": [
    "def checkHypothesis(s1, s2, alpha=.05):\n",
    "    \n",
    "    def makeHist(x):\n",
    "        plt.hist(x)\n",
    "        plt.title(x.name)\n",
    "        plt.show()\n",
    "    \n",
    "    makeHist(s1)\n",
    "    makeHist(s2)\n",
    "    \n",
    "    results = st.ttest_ind(s1, s2, equal_var = False)\n",
    "    print('p-значение: ', results.pvalue)\n",
    "    if results.pvalue < alpha:\n",
    "        print('Отвергаем нулевую гипотезу, различия статистически значимы')\n",
    "    else:\n",
    "        print('Нет оснований отвергнуть нулевую гипотезу')"
   ]
  },
  {
   "cell_type": "code",
   "execution_count": 48,
   "metadata": {},
   "outputs": [
    {
     "data": {
      "image/png": "[encoded data removed]",
      "text/plain": [
       "<Figure size 432x288 with 1 Axes>"
      ]
     },
     "metadata": {
      "needs_background": "light"
     },
     "output_type": "display_data"
    },
    {
     "data": {
      "image/png": "[encoded data removed]",
      "text/plain": [
       "<Figure size 432x288 with 1 Axes>"
      ]
     },
     "metadata": {
      "needs_background": "light"
     },
     "output_type": "display_data"
    },
    {
     "name": "stdout",
     "output_type": "stream",
     "text": [
      "p-значение:  0.14759594013430463\n",
      "Нет оснований отвергнуть нулевую гипотезу\n"
     ]
    }
   ],
   "source": [
    "checkHypothesis(sample_1, sample_2)"
   ]
  },
  {
   "cell_type": "markdown",
   "metadata": {},
   "source": [
    "<a id='step_17'></a>"
   ]
  },
  {
   "cell_type": "markdown",
   "metadata": {},
   "source": [
    "#### Средние пользовательские рейтинги жанров Action (англ. «действие», экшен-игры) и Sports (англ. «спортивные соревнования») разные. "
   ]
  },
  {
   "cell_type": "markdown",
   "metadata": {},
   "source": [
    "#### Н0 : Средние пользовательские рейтинги жанров Action и Sports равны"
   ]
  },
  {
   "cell_type": "markdown",
   "metadata": {},
   "source": [
    "#### Н1 : Средние пользовательские рейтинги жанров Action и Sports не равны"
   ]
  },
  {
   "cell_type": "markdown",
   "metadata": {},
   "source": [
    " Причины формирования гипотизы Н0:\n",
    "- Основную часть поклонников жанра Sports составляют люди которые игают в эти игры годами и они фанаты какого то одного вида спорта и если даже игра не получилась у разработчиков они все равно ее покупают и оценивают.\n",
    "- Игры жанра Action очень большой спрос на них и разработчикистараются сделать изх максимально удобными и интересными для игроков пользователи могут это оценить по достоинству.\n",
    "______________________________________________________________________________________________________\n",
    " Причины формирования гипотизы Н1:\n",
    "- Жанр Sports имеет свою специфику и азроботчикам тяжело придумать что тот новое, поэтому качество иногда страдает, что сильно влияет на оценку пользовательскую оценку.\n",
    "- Из-за большой популярности жанра Action выходит много игр этого жанра с сырым и не интересным наполнением,это может влиять на оценку пользователей."
   ]
  },
  {
   "cell_type": "code",
   "execution_count": 49,
   "metadata": {},
   "outputs": [
    {
     "name": "stdout",
     "output_type": "stream",
     "text": [
      "equal_var = False\n"
     ]
    }
   ],
   "source": [
    "# подготовим массивы, содержащие выборки:\n",
    "sample_1 = df_2013_pl.query('genre == \"Action\" and user_score != \"no_info\" ')['user_score'].astype('float')\n",
    "sample_1.name = 'Рейтинг Action'\n",
    "var_sample_1 = np.var(sample_1, ddof=1)\n",
    " \n",
    "sample_2 = df_2013_pl.query('genre == \"Sports\" and user_score != \"no_info\"')['user_score'].astype('float')\n",
    "sample_2.name = 'Рейтинг Sports'\n",
    "var_sample_2 = np.var(sample_2, ddof=1)\n",
    "# сделать сравнение дисперсий \n",
    "if var_sample_1 == var_sample_2:\n",
    "    print('equal_var = True')\n",
    "else:\n",
    "    print('equal_var = False')"
   ]
  },
  {
   "cell_type": "code",
   "execution_count": 50,
   "metadata": {},
   "outputs": [],
   "source": [
    "def checkHypothesis(s1, s2, alpha=.05):\n",
    "    \n",
    "    def makeHist(x):\n",
    "        plt.hist(x)\n",
    "        plt.title(x.name)\n",
    "        plt.show()\n",
    "    \n",
    "    makeHist(s1)\n",
    "    makeHist(s2)\n",
    "    \n",
    "    results = st.ttest_ind(s1, s2, equal_var = False)\n",
    "    print('p-значение: ', results.pvalue)\n",
    "    if results.pvalue < alpha:\n",
    "        print('Отвергаем нулевую гипотезу, различия статистически значимы')\n",
    "    else:\n",
    "        print('Нет оснований отвергнуть нулевую гипотезу')"
   ]
  },
  {
   "cell_type": "code",
   "execution_count": 51,
   "metadata": {
    "scrolled": false
   },
   "outputs": [
    {
     "data": {
      "image/png": "[encoded data removed]",
      "text/plain": [
       "<Figure size 432x288 with 1 Axes>"
      ]
     },
     "metadata": {
      "needs_background": "light"
     },
     "output_type": "display_data"
    },
    {
     "data": {
      "image/png": "[encoded data removed]",
      "text/plain": [
       "<Figure size 432x288 with 1 Axes>"
      ]
     },
     "metadata": {
      "needs_background": "light"
     },
     "output_type": "display_data"
    },
    {
     "name": "stdout",
     "output_type": "stream",
     "text": [
      "p-значение:  1.4460039700704315e-20\n",
      "Отвергаем нулевую гипотезу, различия статистически значимы\n"
     ]
    }
   ],
   "source": [
    "checkHypothesis(sample_1, sample_2)"
   ]
  },
  {
   "cell_type": "markdown",
   "metadata": {},
   "source": [
    "<div class=\"alert alert-block alert-danger\">\n",
    "<h2>Комментарий от ревьювера (недочет, который нужно доработать)</h2> \n",
    "\n",
    "Давай тут немножечко поправим)\n",
    "\n",
    "1. Нужно понимать, что формулировка не терпит понятий \"следующая, первая, и т.д.\" Есть нулевая и альтернативная. Лучше всего, если это будет выглядеть так.\n",
    "\n",
    "    H0: Средняя выручка оператора от пользователей из Москвы равна средней выручке пользователей из регионов.\n",
    "    \n",
    "    H1: Средняя выручка оператора от пользователей из Москвы отличается от выручки пользователей из регионов.\n",
    "    \n",
    "Никаких других записей при формировании гипотезы быть не должно (типа \"Основную часть поклонников жанра Sports составляют люди которые игают в эти игры годами и они фанаты какого то одного вида спорта и если даже ин=гра не получилась у разработчиков они все равно ее покупают и оценивают\". Это можно описать отдельно, но внутрь гипотезы вставлять не нужно. Это важно.) \n",
    "    \n",
    "2. Если мы используем т-тест, нужно это обосновать, типа \"В данном тесте мы используем статистический критерий Стьюдента, потому что то-то и то-то, данные распределены так-то, и представляют из себя бла-бла-бла\" Старайся расписывать этот момент более подробно. Это исправлять не нужно, но стоит учесть на будущее\n",
    "\n",
    "Посмотри тут: https://www.youtube.com/watch?v=ZaZYy0YUdY8&feature=emb_logo\n",
    "\n",
    "А чтоб окончательно взорвать тебе мозг, прочитай тут: https://drive.google.com/file/d/1SqcimkyF4iGjgT8Yhlmx-tOXV-ejmFev/view?usp=sharing\n",
    "\n",
    "\n",
    "3. Нужно сделать сравнение дисперсий, и в зависимости от результата - \"настроить\" тест Стьюдента)\n",
    "\n",
    "https://praktikum.yandex.ru/learn/data-analyst/courses/1e2219fe-f6df-4388-b750-381cdc26e3cf/sprints/386/topics/471d611b-1b78-411b-9089-0529e25f1c5a/lessons/b47d564c-188e-4bc2-98c0-13797fdf7ffa/"
   ]
  },
  {
   "cell_type": "markdown",
   "metadata": {},
   "source": [
    "<div class=\"alert alert-block alert-info\">\n",
    "<b>КОММЕНТАРИЙ ОТ УЧЕНИКА:</b>\n",
    "спасибо за оценку работы) \n",
    "- статья для взрыва мозга оказалась оч полезной и видео тоже!)))\n",
    "</div>"
   ]
  },
  {
   "cell_type": "markdown",
   "metadata": {},
   "source": [
    "<div class=\"alert alert-block alert-success\">\n",
    "<h2>Комментарий от ревьювера V2 (все здОрово)</h2> \n",
    "\n",
    "На здоровье) Спасибо, что все поисправлял)"
   ]
  },
  {
   "cell_type": "markdown",
   "metadata": {},
   "source": [
    "### Шаг 6. Общий вывод <a id='step_18'></a>"
   ]
  },
  {
   "cell_type": "markdown",
   "metadata": {},
   "source": [
    "Разобрав и проанализировав датосет мы пришли к следующим выводам, которые помогут нас составить план по закупкам и осуществлению рекламной компании на 2017 год :\n",
    "1. Необходимо сделать упор на игры выпускаемые топовых платформах 'WiiU', 'XOne', 'PS4', '3DS', 'PC'\n",
    "2. Быть готовым к выпуску платфомы нового покаления для Японского рынка, т.к. '3DS' выпускается у же в течение 6 лет \n",
    "3. Для каждого рынка закупаем топовые жанры и следим за выпуском новых игр в этих жанрах:\n",
    "    - Северная Америка - 'Shooter', 'Action', 'Sports',  'Role-Playing', 'Platform'\n",
    "    - Европа - 'Shooter', 'Action', 'Sports', 'Role-Playing', 'Racing'\n",
    "    - Япония - 'Role-Playing', 'Action''Misc', 'Platform', 'Fighting'\n",
    "    - Продажи по миру - 'Shooter', 'Action', 'Sports', 'Role-Playing', 'Racing'"
   ]
  },
  {
   "cell_type": "markdown",
   "metadata": {},
   "source": [
    "## <span style=\"color:magenta\">В заключении) </span>\n",
    "\n",
    "Мне очень понравилась твоя работа! Все рассуждения верные. Очень логичные и осмысленные. Ничего лишнего, все по полкам. \n",
    "\n",
    "Ты показываешь хорошее владение всем изучаемым в модуле материалом. Уверенно пользуешься pandas, строишь отличные наглядные таблички, отличные визуализации. Делаешь четкие обоснованные выводы.\n",
    "\n",
    "Поисправляй недочеты в статистике, и проект будет просто класс!\n",
    "\n",
    "Короче, молодец! Жду твоих исправлений)\n",
    "\n",
    "<img src=\"https://avatars.mds.yandex.net/get-pdb/2402172/12f53009-3c0e-4655-87c6-606d139bbf8e/s1200?webp=false\" width=\"300\">"
   ]
  }
 ],
 "metadata": {
  "kernelspec": {
   "display_name": "Python 3",
   "language": "python",
   "name": "python3"
  },
  "language_info": {
   "codemirror_mode": {
    "name": "ipython",
    "version": 3
   },
   "file_extension": ".py",
   "mimetype": "text/x-python",
   "name": "python",
   "nbconvert_exporter": "python",
   "pygments_lexer": "ipython3",
   "version": "3.7.6"
  }
 },
 "nbformat": 4,
 "nbformat_minor": 2
}
